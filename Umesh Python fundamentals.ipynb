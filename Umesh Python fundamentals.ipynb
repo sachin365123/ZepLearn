{
 "cells": [
  {
   "cell_type": "code",
   "execution_count": null,
   "id": "b81b3512",
   "metadata": {},
   "outputs": [],
   "source": [
    "# Literals\n",
    "# Strings\n",
    "# Float\n",
    "# Integers\n",
    "# Character\n",
    "# Boolean\n",
    "# None"
   ]
  },
  {
   "cell_type": "code",
   "execution_count": 6,
   "id": "ee0ceb69",
   "metadata": {},
   "outputs": [
    {
     "name": "stdout",
     "output_type": "stream",
     "text": [
      "Enter your Name ?  Sachin\n",
      "Sachin\n"
     ]
    }
   ],
   "source": [
    "# Keywords\n",
    "# quotes\n",
    "str1=input(\"Enter your Name ?  \")\n",
    "print(str1)\n",
    "\n",
    "\n"
   ]
  },
  {
   "cell_type": "code",
   "execution_count": null,
   "id": "71c06615",
   "metadata": {},
   "outputs": [],
   "source": [
    "# identifiers ???"
   ]
  },
  {
   "cell_type": "code",
   "execution_count": 8,
   "id": "57e93720",
   "metadata": {},
   "outputs": [],
   "source": [
    "name=\"Umesh\"\n",
    "# string"
   ]
  },
  {
   "cell_type": "code",
   "execution_count": 9,
   "id": "4eb17c62",
   "metadata": {},
   "outputs": [
    {
     "name": "stdout",
     "output_type": "stream",
     "text": [
      "Umesh\n"
     ]
    }
   ],
   "source": [
    "print(name)"
   ]
  },
  {
   "cell_type": "code",
   "execution_count": 10,
   "id": "7e9ce23e",
   "metadata": {},
   "outputs": [
    {
     "name": "stdout",
     "output_type": "stream",
     "text": [
      "25\n"
     ]
    }
   ],
   "source": [
    "age=25\n",
    "# integer\n",
    "print(age)"
   ]
  },
  {
   "cell_type": "code",
   "execution_count": 11,
   "id": "bd0ec2a2",
   "metadata": {},
   "outputs": [
    {
     "name": "stdout",
     "output_type": "stream",
     "text": [
      "4500.5\n"
     ]
    }
   ],
   "source": [
    "salary=4500.5\n",
    "\n",
    "print(salary)"
   ]
  },
  {
   "cell_type": "code",
   "execution_count": 12,
   "id": "fd308e0d",
   "metadata": {},
   "outputs": [
    {
     "data": {
      "text/plain": [
       "float"
      ]
     },
     "execution_count": 12,
     "metadata": {},
     "output_type": "execute_result"
    }
   ],
   "source": [
    "type(salary)"
   ]
  },
  {
   "cell_type": "code",
   "execution_count": 13,
   "id": "d6f85b3c",
   "metadata": {},
   "outputs": [
    {
     "data": {
      "text/plain": [
       "str"
      ]
     },
     "execution_count": 13,
     "metadata": {},
     "output_type": "execute_result"
    }
   ],
   "source": [
    "type(name)"
   ]
  },
  {
   "cell_type": "code",
   "execution_count": 14,
   "id": "f294d571",
   "metadata": {},
   "outputs": [
    {
     "data": {
      "text/plain": [
       "int"
      ]
     },
     "execution_count": 14,
     "metadata": {},
     "output_type": "execute_result"
    }
   ],
   "source": [
    "type(age)"
   ]
  },
  {
   "cell_type": "code",
   "execution_count": 19,
   "id": "a6b0315f",
   "metadata": {},
   "outputs": [
    {
     "name": "stdout",
     "output_type": "stream",
     "text": [
      "False\n"
     ]
    }
   ],
   "source": [
    "is_He_Alive=False\n",
    "print(is_He_Alive)"
   ]
  },
  {
   "cell_type": "code",
   "execution_count": 20,
   "id": "52b4dde0",
   "metadata": {},
   "outputs": [
    {
     "data": {
      "text/plain": [
       "bool"
      ]
     },
     "execution_count": 20,
     "metadata": {},
     "output_type": "execute_result"
    }
   ],
   "source": [
    "type(is_He_Alive)"
   ]
  },
  {
   "cell_type": "code",
   "execution_count": 25,
   "id": "22e20362",
   "metadata": {},
   "outputs": [
    {
     "ename": "SyntaxError",
     "evalue": "invalid syntax (1481753167.py, line 1)",
     "output_type": "error",
     "traceback": [
      "\u001b[1;36m  File \u001b[1;32m\"C:\\Users\\Sachin\\AppData\\Local\\Temp\\ipykernel_15848\\1481753167.py\"\u001b[1;36m, line \u001b[1;32m1\u001b[0m\n\u001b[1;33m    x is sales and y is market value\u001b[0m\n\u001b[1;37m                               ^\u001b[0m\n\u001b[1;31mSyntaxError\u001b[0m\u001b[1;31m:\u001b[0m invalid syntax\n"
     ]
    }
   ],
   "source": [
    "# x is sales and y is market value\n",
    "x=10\n",
    "y=20\n",
    "z=x+y\n",
    "print(z)"
   ]
  },
  {
   "cell_type": "code",
   "execution_count": null,
   "id": "5b08f2f1",
   "metadata": {},
   "outputs": [],
   "source": [
    "# spaces before any variable or exp is called indentation "
   ]
  },
  {
   "cell_type": "code",
   "execution_count": null,
   "id": "573fb6e8",
   "metadata": {},
   "outputs": [],
   "source": []
  },
  {
   "cell_type": "code",
   "execution_count": null,
   "id": "4c6aa50f",
   "metadata": {},
   "outputs": [],
   "source": []
  },
  {
   "cell_type": "code",
   "execution_count": 26,
   "id": "0635d59b",
   "metadata": {},
   "outputs": [
    {
     "name": "stdout",
     "output_type": "stream",
     "text": [
      "30\n"
     ]
    }
   ],
   "source": [
    "# expressions\n",
    "x=10\n",
    "y=20\n",
    "z=x+y\n",
    "print(z)"
   ]
  },
  {
   "cell_type": "code",
   "execution_count": null,
   "id": "0e2ee797",
   "metadata": {},
   "outputs": [],
   "source": [
    "# Comments in Python"
   ]
  },
  {
   "cell_type": "markdown",
   "id": "31359d32",
   "metadata": {},
   "source": [
    "# Python Data Type"
   ]
  },
  {
   "cell_type": "code",
   "execution_count": 27,
   "id": "45c06a43",
   "metadata": {},
   "outputs": [],
   "source": [
    "Boolaens=True"
   ]
  },
  {
   "cell_type": "code",
   "execution_count": 31,
   "id": "171676d3",
   "metadata": {},
   "outputs": [],
   "source": [
    "Numbers=150"
   ]
  },
  {
   "cell_type": "code",
   "execution_count": 47,
   "id": "54fe074f",
   "metadata": {},
   "outputs": [
    {
     "data": {
      "text/plain": [
       "160000000000000000"
      ]
     },
     "execution_count": 47,
     "metadata": {},
     "output_type": "execute_result"
    }
   ],
   "source": [
    "Numbers=Numbers*10\n",
    "Numbers"
   ]
  },
  {
   "cell_type": "code",
   "execution_count": 50,
   "id": "74ac411d",
   "metadata": {},
   "outputs": [
    {
     "data": {
      "text/plain": [
       "'Umesh is learning from ZenLearn'"
      ]
     },
     "execution_count": 50,
     "metadata": {},
     "output_type": "execute_result"
    }
   ],
   "source": [
    "String=\"Umesh is learning from ZenLearn\"\n",
    "String"
   ]
  },
  {
   "cell_type": "code",
   "execution_count": 58,
   "id": "3544bd20",
   "metadata": {},
   "outputs": [
    {
     "data": {
      "text/plain": [
       "b'450'"
      ]
     },
     "execution_count": 58,
     "metadata": {},
     "output_type": "execute_result"
    }
   ],
   "source": [
    "Bytes=\"450\"\n",
    "data=bytes(Bytes,'utf-8')\n",
    "data"
   ]
  },
  {
   "cell_type": "code",
   "execution_count": 53,
   "id": "853cdb04",
   "metadata": {},
   "outputs": [
    {
     "data": {
      "text/plain": [
       "b'\\n\\x144'"
      ]
     },
     "execution_count": 53,
     "metadata": {},
     "output_type": "execute_result"
    }
   ],
   "source": [
    "bytes([10,20,52])"
   ]
  },
  {
   "cell_type": "code",
   "execution_count": null,
   "id": "ad2772a7",
   "metadata": {},
   "outputs": [],
   "source": [
    "bit---->> 01110001001\n",
    "bytes---->> \"01011111\" ---> 1 byte"
   ]
  },
  {
   "cell_type": "code",
   "execution_count": null,
   "id": "2bc6098a",
   "metadata": {},
   "outputs": [],
   "source": [
    "# Lists and tuples "
   ]
  },
  {
   "cell_type": "markdown",
   "id": "2b91d282",
   "metadata": {},
   "source": [
    " # Diffrence btween data type behavior"
   ]
  },
  {
   "cell_type": "code",
   "execution_count": 2,
   "id": "f06035d7",
   "metadata": {},
   "outputs": [
    {
     "data": {
      "text/plain": [
       "['Banana', 'Milk', 56.7, 12, 'spoon']"
      ]
     },
     "execution_count": 2,
     "metadata": {},
     "output_type": "execute_result"
    }
   ],
   "source": [
    "# List: Mutable?\n",
    "lst=[\"Banana\",\"Milk\",56.7,12,'spoon']\n",
    "lst"
   ]
  },
  {
   "cell_type": "code",
   "execution_count": 3,
   "id": "e6a6d4fe",
   "metadata": {},
   "outputs": [
    {
     "data": {
      "text/plain": [
       "56.7"
      ]
     },
     "execution_count": 3,
     "metadata": {},
     "output_type": "execute_result"
    }
   ],
   "source": [
    "lst[2]"
   ]
  },
  {
   "cell_type": "code",
   "execution_count": 5,
   "id": "1844414e",
   "metadata": {},
   "outputs": [
    {
     "data": {
      "text/plain": [
       "'spoon'"
      ]
     },
     "execution_count": 5,
     "metadata": {},
     "output_type": "execute_result"
    }
   ],
   "source": [
    "lst[4]"
   ]
  },
  {
   "cell_type": "code",
   "execution_count": 6,
   "id": "dbc6a288",
   "metadata": {},
   "outputs": [
    {
     "data": {
      "text/plain": [
       "['Banana', 'Milk', 56.7, 12, 'spoon', 'Orange']"
      ]
     },
     "execution_count": 6,
     "metadata": {},
     "output_type": "execute_result"
    }
   ],
   "source": [
    "lst.append('Orange')\n",
    "lst"
   ]
  },
  {
   "cell_type": "code",
   "execution_count": 7,
   "id": "26f27183",
   "metadata": {},
   "outputs": [],
   "source": [
    "lst[1]='Tea'"
   ]
  },
  {
   "cell_type": "code",
   "execution_count": 8,
   "id": "90ac3ba4",
   "metadata": {},
   "outputs": [
    {
     "data": {
      "text/plain": [
       "['Banana', 'Tea', 56.7, 12, 'spoon', 'Orange']"
      ]
     },
     "execution_count": 8,
     "metadata": {},
     "output_type": "execute_result"
    }
   ],
   "source": [
    "lst"
   ]
  },
  {
   "cell_type": "code",
   "execution_count": 9,
   "id": "795558cb",
   "metadata": {},
   "outputs": [
    {
     "data": {
      "text/plain": [
       "['Banana', 'Tea', 56.7, 12, 'spoon', 'Orange', 'P']"
      ]
     },
     "execution_count": 9,
     "metadata": {},
     "output_type": "execute_result"
    }
   ],
   "source": [
    "lst.append('P')\n",
    "lst"
   ]
  },
  {
   "cell_type": "code",
   "execution_count": 11,
   "id": "f7c13996",
   "metadata": {},
   "outputs": [
    {
     "data": {
      "text/plain": [
       "56.7"
      ]
     },
     "execution_count": 11,
     "metadata": {},
     "output_type": "execute_result"
    }
   ],
   "source": [
    "# List is ordered\n",
    "lst[2]"
   ]
  },
  {
   "cell_type": "code",
   "execution_count": null,
   "id": "aef5479e",
   "metadata": {},
   "outputs": [],
   "source": [
    "Train Number---> Jan Shatabdi--> 12568 ---> ND to Chennai---> Three days"
   ]
  },
  {
   "cell_type": "code",
   "execution_count": 13,
   "id": "42af929e",
   "metadata": {},
   "outputs": [
    {
     "data": {
      "text/plain": [
       "[12, 'spoon', 'Orange']"
      ]
     },
     "execution_count": 13,
     "metadata": {},
     "output_type": "execute_result"
    }
   ],
   "source": [
    "# List is indexing/Slicing\n",
    "lst[3:6]"
   ]
  },
  {
   "cell_type": "code",
   "execution_count": 15,
   "id": "536a3d62",
   "metadata": {},
   "outputs": [
    {
     "data": {
      "text/plain": [
       "['Banana', 'Tea', 56.7, 12, 'spoon', 'Orange', 'P', 'Orange', 'Tea']"
      ]
     },
     "execution_count": 15,
     "metadata": {},
     "output_type": "execute_result"
    }
   ],
   "source": [
    "# duplicate elements in list\n",
    "lst.append('Tea')\n",
    "lst"
   ]
  },
  {
   "cell_type": "code",
   "execution_count": 16,
   "id": "b28ef9a0",
   "metadata": {},
   "outputs": [
    {
     "data": {
      "text/plain": [
       "('ZepLearn', 'ML', 12, 'DS')"
      ]
     },
     "execution_count": 16,
     "metadata": {},
     "output_type": "execute_result"
    }
   ],
   "source": [
    "# Tuple: is not Mutable?\n",
    "my_tuple=('ZepLearn','ML',12,'DS')\n",
    "my_tuple"
   ]
  },
  {
   "cell_type": "code",
   "execution_count": 17,
   "id": "548d8b5b",
   "metadata": {},
   "outputs": [
    {
     "ename": "TypeError",
     "evalue": "'tuple' object does not support item assignment",
     "output_type": "error",
     "traceback": [
      "\u001b[1;31m---------------------------------------------------------------------------\u001b[0m",
      "\u001b[1;31mTypeError\u001b[0m                                 Traceback (most recent call last)",
      "\u001b[1;32m~\\AppData\\Local\\Temp\\ipykernel_6176\\1402178763.py\u001b[0m in \u001b[0;36m<module>\u001b[1;34m\u001b[0m\n\u001b[1;32m----> 1\u001b[1;33m \u001b[0mmy_tuple\u001b[0m\u001b[1;33m[\u001b[0m\u001b[1;36m2\u001b[0m\u001b[1;33m]\u001b[0m\u001b[1;33m=\u001b[0m\u001b[1;36m55\u001b[0m\u001b[1;33m\u001b[0m\u001b[1;33m\u001b[0m\u001b[0m\n\u001b[0m",
      "\u001b[1;31mTypeError\u001b[0m: 'tuple' object does not support item assignment"
     ]
    }
   ],
   "source": [
    "my_tuple[2]=55"
   ]
  },
  {
   "cell_type": "code",
   "execution_count": 18,
   "id": "70192148",
   "metadata": {},
   "outputs": [
    {
     "ename": "AttributeError",
     "evalue": "'tuple' object has no attribute 'append'",
     "output_type": "error",
     "traceback": [
      "\u001b[1;31m---------------------------------------------------------------------------\u001b[0m",
      "\u001b[1;31mAttributeError\u001b[0m                            Traceback (most recent call last)",
      "\u001b[1;32m~\\AppData\\Local\\Temp\\ipykernel_6176\\3793361726.py\u001b[0m in \u001b[0;36m<module>\u001b[1;34m\u001b[0m\n\u001b[1;32m----> 1\u001b[1;33m \u001b[0mmy_tuple\u001b[0m\u001b[1;33m.\u001b[0m\u001b[0mappend\u001b[0m\u001b[1;33m(\u001b[0m\u001b[1;36m75\u001b[0m\u001b[1;33m)\u001b[0m\u001b[1;33m\u001b[0m\u001b[1;33m\u001b[0m\u001b[0m\n\u001b[0m",
      "\u001b[1;31mAttributeError\u001b[0m: 'tuple' object has no attribute 'append'"
     ]
    }
   ],
   "source": [
    "my_tuple.append(75)"
   ]
  },
  {
   "cell_type": "code",
   "execution_count": 19,
   "id": "97710b29",
   "metadata": {},
   "outputs": [
    {
     "data": {
      "text/plain": [
       "('ML', 12)"
      ]
     },
     "execution_count": 19,
     "metadata": {},
     "output_type": "execute_result"
    }
   ],
   "source": [
    "my_tuple[1:3]\n",
    "# tuple is supporting indexing "
   ]
  },
  {
   "cell_type": "code",
   "execution_count": 20,
   "id": "6f89340a",
   "metadata": {},
   "outputs": [
    {
     "data": {
      "text/plain": [
       "('ZepLearn', 'ML', 12, 'DS', 'ML', 12)"
      ]
     },
     "execution_count": 20,
     "metadata": {},
     "output_type": "execute_result"
    }
   ],
   "source": [
    "my_tuple=('ZepLearn','ML',12,'DS','ML',12)\n",
    "my_tuple\n",
    "# tuple is also supporting duplicate elements ?"
   ]
  },
  {
   "cell_type": "markdown",
   "id": "df509c06",
   "metadata": {},
   "source": [
    "# Set"
   ]
  },
  {
   "cell_type": "code",
   "execution_count": 23,
   "id": "37892c06",
   "metadata": {},
   "outputs": [
    {
     "data": {
      "text/plain": [
       "set"
      ]
     },
     "execution_count": 23,
     "metadata": {},
     "output_type": "execute_result"
    }
   ],
   "source": [
    "# umesh=['ML', 12, 'DS']\n",
    "# umesh=('ML', 12, 'DS')\n",
    "umesh={'ML', 12, 'DS'}\n",
    "type(umesh)"
   ]
  },
  {
   "cell_type": "code",
   "execution_count": 24,
   "id": "50d77517",
   "metadata": {},
   "outputs": [],
   "source": [
    "my_set={'Edunock','ML',12,3.5,'DS','Edunock','ML',12,45,45,45}"
   ]
  },
  {
   "cell_type": "code",
   "execution_count": 25,
   "id": "1be188a8",
   "metadata": {},
   "outputs": [
    {
     "data": {
      "text/plain": [
       "{12, 3.5, 45, 'DS', 'Edunock', 'ML'}"
      ]
     },
     "execution_count": 25,
     "metadata": {},
     "output_type": "execute_result"
    }
   ],
   "source": [
    "my_set"
   ]
  },
  {
   "cell_type": "code",
   "execution_count": 27,
   "id": "8081b3c2",
   "metadata": {},
   "outputs": [
    {
     "data": {
      "text/plain": [
       "{12, 3.5, 45, 57, 'DS', 'Edunock', 'ML'}"
      ]
     },
     "execution_count": 27,
     "metadata": {},
     "output_type": "execute_result"
    }
   ],
   "source": [
    "my_set.add(57)\n",
    "my_set"
   ]
  },
  {
   "cell_type": "code",
   "execution_count": 28,
   "id": "09169070",
   "metadata": {},
   "outputs": [
    {
     "data": {
      "text/plain": [
       "{12, 3.5, 45, 57, 'DS', 'Edunock', 'ML', 'Sachin'}"
      ]
     },
     "execution_count": 28,
     "metadata": {},
     "output_type": "execute_result"
    }
   ],
   "source": [
    "my_set.add('Sachin')\n",
    "my_set"
   ]
  },
  {
   "cell_type": "code",
   "execution_count": 29,
   "id": "c04917d8",
   "metadata": {},
   "outputs": [
    {
     "data": {
      "text/plain": [
       "{12, 3.5, 45, 57, 'Edunock', 'ML', 'Sachin'}"
      ]
     },
     "execution_count": 29,
     "metadata": {},
     "output_type": "execute_result"
    }
   ],
   "source": [
    "my_set.remove('DS')\n",
    "my_set"
   ]
  },
  {
   "cell_type": "code",
   "execution_count": 30,
   "id": "4fdc0749",
   "metadata": {},
   "outputs": [
    {
     "ename": "TypeError",
     "evalue": "'set' object is not subscriptable",
     "output_type": "error",
     "traceback": [
      "\u001b[1;31m---------------------------------------------------------------------------\u001b[0m",
      "\u001b[1;31mTypeError\u001b[0m                                 Traceback (most recent call last)",
      "\u001b[1;32m~\\AppData\\Local\\Temp\\ipykernel_6176\\3046991481.py\u001b[0m in \u001b[0;36m<module>\u001b[1;34m\u001b[0m\n\u001b[0;32m      1\u001b[0m \u001b[1;31m# my_set.add('Sachin')\u001b[0m\u001b[1;33m\u001b[0m\u001b[1;33m\u001b[0m\u001b[0m\n\u001b[1;32m----> 2\u001b[1;33m \u001b[0mmy_set\u001b[0m\u001b[1;33m[\u001b[0m\u001b[1;36m3\u001b[0m\u001b[1;33m]\u001b[0m\u001b[1;33m\u001b[0m\u001b[1;33m\u001b[0m\u001b[0m\n\u001b[0m",
      "\u001b[1;31mTypeError\u001b[0m: 'set' object is not subscriptable"
     ]
    }
   ],
   "source": [
    "# my_set.add('Sachin')\n",
    "my_set[3]"
   ]
  },
  {
   "cell_type": "code",
   "execution_count": 34,
   "id": "7f0f18bc",
   "metadata": {},
   "outputs": [
    {
     "data": {
      "text/plain": [
       "{3.5, 12, 45, 85, 100}"
      ]
     },
     "execution_count": 34,
     "metadata": {},
     "output_type": "execute_result"
    }
   ],
   "source": [
    "my_set={85,100,12,3.5,12,45,45,45}\n",
    "my_set"
   ]
  },
  {
   "cell_type": "code",
   "execution_count": 39,
   "id": "c7d3d233",
   "metadata": {},
   "outputs": [
    {
     "data": {
      "text/plain": [
       "85"
      ]
     },
     "execution_count": 39,
     "metadata": {},
     "output_type": "execute_result"
    }
   ],
   "source": [
    "my_set.pop()"
   ]
  },
  {
   "cell_type": "code",
   "execution_count": 40,
   "id": "bc861b8c",
   "metadata": {},
   "outputs": [
    {
     "data": {
      "text/plain": [
       "{12, 45}"
      ]
     },
     "execution_count": 40,
     "metadata": {},
     "output_type": "execute_result"
    }
   ],
   "source": [
    "my_set"
   ]
  },
  {
   "cell_type": "code",
   "execution_count": 32,
   "id": "1176bd51",
   "metadata": {},
   "outputs": [
    {
     "data": {
      "text/plain": [
       "(85, 100, 12, 3.5, 12, 45, 45, 45)"
      ]
     },
     "execution_count": 32,
     "metadata": {},
     "output_type": "execute_result"
    }
   ],
   "source": [
    "my_set=(85,100,12,3.5,12,45,45,45)\n",
    "my_set"
   ]
  },
  {
   "cell_type": "code",
   "execution_count": 33,
   "id": "05c08ec9",
   "metadata": {},
   "outputs": [
    {
     "data": {
      "text/plain": [
       "[85, 100, 12, 3.5, 12, 45, 45, 45]"
      ]
     },
     "execution_count": 33,
     "metadata": {},
     "output_type": "execute_result"
    }
   ],
   "source": [
    "my_set=[85,100,12,3.5,12,45,45,45]\n",
    "my_set"
   ]
  },
  {
   "cell_type": "markdown",
   "id": "5b4ad6a2",
   "metadata": {},
   "source": [
    "# Dictionary"
   ]
  },
  {
   "cell_type": "code",
   "execution_count": 52,
   "id": "486fb102",
   "metadata": {},
   "outputs": [],
   "source": [
    "my_dict={'name':'Sachin','course_duration':10,'EduTech':'ZebLearn'}\n",
    "# my_dict['Time']='7 PM'"
   ]
  },
  {
   "cell_type": "code",
   "execution_count": 53,
   "id": "a79ef920",
   "metadata": {},
   "outputs": [
    {
     "data": {
      "text/plain": [
       "{'name': 'Sachin', 'course_duration': 10, 'EduTech': 'ZebLearn'}"
      ]
     },
     "execution_count": 53,
     "metadata": {},
     "output_type": "execute_result"
    }
   ],
   "source": [
    "my_dict"
   ]
  },
  {
   "cell_type": "code",
   "execution_count": 54,
   "id": "bf045942",
   "metadata": {},
   "outputs": [],
   "source": [
    "my_dict['Time']='8 AM'"
   ]
  },
  {
   "cell_type": "code",
   "execution_count": 55,
   "id": "f0b8a830",
   "metadata": {},
   "outputs": [
    {
     "data": {
      "text/plain": [
       "{'name': 'Sachin',\n",
       " 'course_duration': 10,\n",
       " 'EduTech': 'ZebLearn',\n",
       " 'Time': '8 AM'}"
      ]
     },
     "execution_count": 55,
     "metadata": {},
     "output_type": "execute_result"
    }
   ],
   "source": [
    "my_dict"
   ]
  },
  {
   "cell_type": "code",
   "execution_count": 56,
   "id": "89bbbf09",
   "metadata": {},
   "outputs": [],
   "source": [
    "my_dict['Location']='Online'"
   ]
  },
  {
   "cell_type": "code",
   "execution_count": 57,
   "id": "a86692d2",
   "metadata": {},
   "outputs": [
    {
     "data": {
      "text/plain": [
       "{'name': 'Sachin',\n",
       " 'course_duration': 10,\n",
       " 'EduTech': 'ZebLearn',\n",
       " 'Time': '8 AM',\n",
       " 'Location': 'Online'}"
      ]
     },
     "execution_count": 57,
     "metadata": {},
     "output_type": "execute_result"
    }
   ],
   "source": [
    "my_dict"
   ]
  },
  {
   "cell_type": "code",
   "execution_count": 58,
   "id": "655e0600",
   "metadata": {},
   "outputs": [
    {
     "data": {
      "text/plain": [
       "dict_keys(['name', 'course_duration', 'EduTech', 'Time', 'Location'])"
      ]
     },
     "execution_count": 58,
     "metadata": {},
     "output_type": "execute_result"
    }
   ],
   "source": [
    "my_dict.keys()"
   ]
  },
  {
   "cell_type": "code",
   "execution_count": 59,
   "id": "57cd73b1",
   "metadata": {},
   "outputs": [
    {
     "data": {
      "text/plain": [
       "dict_values(['Sachin', 10, 'ZebLearn', '8 AM', 'Online'])"
      ]
     },
     "execution_count": 59,
     "metadata": {},
     "output_type": "execute_result"
    }
   ],
   "source": [
    "my_dict.values()"
   ]
  },
  {
   "cell_type": "code",
   "execution_count": 60,
   "id": "b145d976",
   "metadata": {},
   "outputs": [
    {
     "data": {
      "text/plain": [
       "'Online'"
      ]
     },
     "execution_count": 60,
     "metadata": {},
     "output_type": "execute_result"
    }
   ],
   "source": [
    "my_dict.get('Location')"
   ]
  },
  {
   "cell_type": "code",
   "execution_count": 55,
   "id": "65c2b852",
   "metadata": {},
   "outputs": [],
   "source": [
    "my_dict={'name':'Edunock','course_duration':10,'Time': '7 PM','name':'Sachin','course_duration':99,'name':'Jyoti'}"
   ]
  },
  {
   "cell_type": "code",
   "execution_count": 56,
   "id": "fa1db954",
   "metadata": {},
   "outputs": [
    {
     "data": {
      "text/plain": [
       "{'name': 'Jyoti', 'course_duration': 99, 'Time': '7 PM'}"
      ]
     },
     "execution_count": 56,
     "metadata": {},
     "output_type": "execute_result"
    }
   ],
   "source": [
    "my_dict"
   ]
  },
  {
   "cell_type": "code",
   "execution_count": 57,
   "id": "2ffa4dab",
   "metadata": {},
   "outputs": [],
   "source": [
    "my_dict={'name1':'Edunock','course_duration1':10,'Time': '7 PM','name2':'Sachin','course_duration2':99,'name3':'Jyoti'}"
   ]
  },
  {
   "cell_type": "code",
   "execution_count": 58,
   "id": "c30bbdc5",
   "metadata": {},
   "outputs": [
    {
     "data": {
      "text/plain": [
       "{'name1': 'Edunock',\n",
       " 'course_duration1': 10,\n",
       " 'Time': '7 PM',\n",
       " 'name2': 'Sachin',\n",
       " 'course_duration2': 99,\n",
       " 'name3': 'Jyoti'}"
      ]
     },
     "execution_count": 58,
     "metadata": {},
     "output_type": "execute_result"
    }
   ],
   "source": [
    "my_dict"
   ]
  },
  {
   "cell_type": "markdown",
   "id": "b35fe209",
   "metadata": {},
   "source": [
    "# String"
   ]
  },
  {
   "cell_type": "code",
   "execution_count": 2,
   "id": "db8cad71",
   "metadata": {},
   "outputs": [
    {
     "name": "stdout",
     "output_type": "stream",
     "text": [
      "Sad Happy Angry \n"
     ]
    }
   ],
   "source": [
    "#join function\n",
    "feel=['Sad ','Happy ','Angry ']\n",
    "string=''.join(feel)\n",
    "print(string)"
   ]
  },
  {
   "cell_type": "code",
   "execution_count": 3,
   "id": "26bb4058",
   "metadata": {},
   "outputs": [
    {
     "data": {
      "text/plain": [
       "str"
      ]
     },
     "execution_count": 3,
     "metadata": {},
     "output_type": "execute_result"
    }
   ],
   "source": [
    "type(string)"
   ]
  },
  {
   "cell_type": "code",
   "execution_count": 4,
   "id": "6c1cc130",
   "metadata": {},
   "outputs": [
    {
     "name": "stdout",
     "output_type": "stream",
     "text": [
      "['Sachin', ' Umesh', ' Ahana', ' Srinjana']\n"
     ]
    }
   ],
   "source": [
    "person='Sachin, Umesh, Ahana, Srinjana'\n",
    "seperator=','\n",
    "print(person.split(seperator))"
   ]
  },
  {
   "cell_type": "code",
   "execution_count": 7,
   "id": "5bcfa293",
   "metadata": {},
   "outputs": [
    {
     "name": "stdout",
     "output_type": "stream",
     "text": [
      "['Sachin,', '$', 'Umesh,$', 'Ahana,', '$Srinjana']\n"
     ]
    }
   ],
   "source": [
    "person='Sachin, $ Umesh,$ Ahana, $Srinjana'\n",
    "# seperator=','\n",
    "print(person.split(' '))"
   ]
  },
  {
   "cell_type": "code",
   "execution_count": 8,
   "id": "48df95a4",
   "metadata": {},
   "outputs": [
    {
     "name": "stdout",
     "output_type": "stream",
     "text": [
      "Medical Values For Person Cancer\n"
     ]
    }
   ],
   "source": [
    "string=\"Medical values for person Cancer\"\n",
    "print(string.title())"
   ]
  },
  {
   "cell_type": "code",
   "execution_count": 9,
   "id": "4183e5ca",
   "metadata": {},
   "outputs": [],
   "source": [
    "# replace\n",
    "intro=\"I am software Engineer\"\n",
    "new=intro.replace(\"software\",'Civil')"
   ]
  },
  {
   "cell_type": "code",
   "execution_count": 10,
   "id": "ccbef2b3",
   "metadata": {},
   "outputs": [
    {
     "data": {
      "text/plain": [
       "'I am Civil Engineer'"
      ]
     },
     "execution_count": 10,
     "metadata": {},
     "output_type": "execute_result"
    }
   ],
   "source": [
    "new"
   ]
  },
  {
   "cell_type": "code",
   "execution_count": 11,
   "id": "c0883dce",
   "metadata": {},
   "outputs": [
    {
     "name": "stdout",
     "output_type": "stream",
     "text": [
      "I AM SOFTWARE ENGINEER\n"
     ]
    }
   ],
   "source": [
    "# upper\n",
    "animal='I am software Engineer'\n",
    "print(animal.upper())"
   ]
  },
  {
   "cell_type": "code",
   "execution_count": 12,
   "id": "756bcf5b",
   "metadata": {},
   "outputs": [
    {
     "name": "stdout",
     "output_type": "stream",
     "text": [
      "i am software engineer\n"
     ]
    }
   ],
   "source": [
    "# lower\n",
    "animal='I AM SOFTWARE ENGINEER'\n",
    "print(animal.lower())"
   ]
  },
  {
   "cell_type": "code",
   "execution_count": 13,
   "id": "2771be12",
   "metadata": {},
   "outputs": [
    {
     "name": "stdout",
     "output_type": "stream",
     "text": [
      "programmer is sample\n"
     ]
    }
   ],
   "source": [
    "# casefold\n",
    "job='Programmer is SAMPLE'\n",
    "print(job.casefold())"
   ]
  },
  {
   "cell_type": "code",
   "execution_count": 15,
   "id": "8826e881",
   "metadata": {},
   "outputs": [
    {
     "name": "stdout",
     "output_type": "stream",
     "text": [
      "Programmer is sample, i am software engineer \n"
     ]
    }
   ],
   "source": [
    "# capitalize\n",
    "job='programmer is SAMPLE, I AM SOFTWARE ENGINEER '\n",
    "print(job.capitalize())"
   ]
  },
  {
   "cell_type": "code",
   "execution_count": 16,
   "id": "65248dcd",
   "metadata": {},
   "outputs": [
    {
     "name": "stdout",
     "output_type": "stream",
     "text": [
      "PROGRAMMER IS sample\n"
     ]
    }
   ],
   "source": [
    "# swapcase\n",
    "capital='programmer is SAMPLE'\n",
    "print(capital.swapcase())"
   ]
  },
  {
   "cell_type": "code",
   "execution_count": 18,
   "id": "7e8b4dcc",
   "metadata": {},
   "outputs": [
    {
     "name": "stdout",
     "output_type": "stream",
     "text": [
      "2\n"
     ]
    }
   ],
   "source": [
    "# count\n",
    "str1='Programmer is Sales sample, i am Sales software engineer'\n",
    "cont=str1.count('Sales')\n",
    "print(cont)"
   ]
  },
  {
   "cell_type": "code",
   "execution_count": 19,
   "id": "735b9621",
   "metadata": {},
   "outputs": [
    {
     "name": "stdout",
     "output_type": "stream",
     "text": [
      "6\n"
     ]
    }
   ],
   "source": [
    "# index\n",
    "str1='programmer is SAMPLE programmer'\n",
    "index=str1.index('m')\n",
    "print(index)"
   ]
  },
  {
   "cell_type": "code",
   "execution_count": 20,
   "id": "45ca46f0",
   "metadata": {},
   "outputs": [
    {
     "name": "stdout",
     "output_type": "stream",
     "text": [
      "28\n"
     ]
    }
   ],
   "source": [
    "# rindex\n",
    "str1='programmer is SAMPLE programmer'\n",
    "index=str1.rindex('m')\n",
    "print(index)"
   ]
  },
  {
   "cell_type": "code",
   "execution_count": 23,
   "id": "677d3277",
   "metadata": {},
   "outputs": [
    {
     "name": "stdout",
     "output_type": "stream",
     "text": [
      "14\n"
     ]
    }
   ],
   "source": [
    "# find\n",
    "str2='programmer is good for web application'\n",
    "pos=str2.find('good')\n",
    "print(pos)"
   ]
  },
  {
   "cell_type": "code",
   "execution_count": 27,
   "id": "e886ddbd",
   "metadata": {},
   "outputs": [
    {
     "name": "stdout",
     "output_type": "stream",
     "text": [
      "False\n"
     ]
    }
   ],
   "source": [
    "# startswith\n",
    "str3='Ahana is reading Python'\n",
    "# str4\n",
    "# str5\n",
    "# str6\n",
    "print(str3.startswith('a'))"
   ]
  },
  {
   "cell_type": "code",
   "execution_count": 29,
   "id": "b15033b7",
   "metadata": {},
   "outputs": [
    {
     "name": "stdout",
     "output_type": "stream",
     "text": [
      "True\n"
     ]
    }
   ],
   "source": [
    "# endswith\n",
    "str3='Ahana is reading Python'\n",
    "print(str3.endswith('n'))"
   ]
  },
  {
   "cell_type": "code",
   "execution_count": 31,
   "id": "dc1d852a",
   "metadata": {},
   "outputs": [
    {
     "name": "stdout",
     "output_type": "stream",
     "text": [
      "Python is a Excellent programming langauage\n"
     ]
    }
   ],
   "source": [
    "# format\n",
    "string=\"{0} is a {1} programming langauage\"\n",
    "print(string.format(\"Python\",\"Excellent\"))"
   ]
  },
  {
   "cell_type": "code",
   "execution_count": 35,
   "id": "8db5bcc3",
   "metadata": {},
   "outputs": [
    {
     "name": "stdout",
     "output_type": "stream",
     "text": [
      "Sachin is working in Healthcare company\n"
     ]
    }
   ],
   "source": [
    "print(\"{1} is working in {3} company\".format(\"Umesh\",\"Sachin\",\"IT\",\"Healthcare\"))"
   ]
  },
  {
   "cell_type": "code",
   "execution_count": 36,
   "id": "cc9963bc",
   "metadata": {},
   "outputs": [
    {
     "name": "stdout",
     "output_type": "stream",
     "text": [
      "True\n"
     ]
    }
   ],
   "source": [
    "# isalnum\n",
    "# Returns True if all characters in the string are alphanumeric (alphabets and numeric values)\n",
    "string=\"Python314587abcdefgh\"\n",
    "print(string.isalnum())"
   ]
  },
  {
   "cell_type": "code",
   "execution_count": 40,
   "id": "f0156c67",
   "metadata": {},
   "outputs": [
    {
     "name": "stdout",
     "output_type": "stream",
     "text": [
      "6\n",
      "6\n",
      "Python\n"
     ]
    }
   ],
   "source": [
    "# strip\n",
    "string=\"     Python    \"\n",
    "strip=string.strip()\n",
    "print(len(string))\n",
    "print(len(strip))\n",
    "print(strip)"
   ]
  },
  {
   "cell_type": "code",
   "execution_count": 43,
   "id": "798dc7c6",
   "metadata": {},
   "outputs": [
    {
     "name": "stdout",
     "output_type": "stream",
     "text": [
      "6\n"
     ]
    }
   ],
   "source": [
    "string=\"    Python     \"\n",
    "strip=string.strip()\n",
    "print(len(strip))"
   ]
  },
  {
   "cell_type": "code",
   "execution_count": 44,
   "id": "532810e4",
   "metadata": {},
   "outputs": [
    {
     "name": "stdout",
     "output_type": "stream",
     "text": [
      "     doctor    \n",
      "          doctor         \n",
      "               doctor              \n"
     ]
    }
   ],
   "source": [
    "# center\n",
    "job='doctor'\n",
    "print(job.center(15))\n",
    "print(job.center(25))\n",
    "print(job.center(35))"
   ]
  },
  {
   "cell_type": "code",
   "execution_count": 48,
   "id": "761006e8",
   "metadata": {},
   "outputs": [
    {
     "name": "stdout",
     "output_type": "stream",
     "text": [
      "False\n"
     ]
    }
   ],
   "source": [
    "# how to compare two strings ignoring case in Python?\n",
    "print(\"USA inDia\" == \"usa INDIA\")\n"
   ]
  },
  {
   "cell_type": "markdown",
   "id": "7778d469",
   "metadata": {},
   "source": [
    "# Operatores in Python"
   ]
  },
  {
   "cell_type": "code",
   "execution_count": 5,
   "id": "303f6a19",
   "metadata": {},
   "outputs": [
    {
     "data": {
      "text/plain": [
       "25"
      ]
     },
     "execution_count": 5,
     "metadata": {},
     "output_type": "execute_result"
    }
   ],
   "source": [
    "x=10+15\n",
    "x"
   ]
  },
  {
   "cell_type": "code",
   "execution_count": 6,
   "id": "054e5d1b",
   "metadata": {},
   "outputs": [
    {
     "data": {
      "text/plain": [
       "30"
      ]
     },
     "execution_count": 6,
     "metadata": {},
     "output_type": "execute_result"
    }
   ],
   "source": [
    "x=x+5\n",
    "x"
   ]
  },
  {
   "cell_type": "code",
   "execution_count": 7,
   "id": "53939000",
   "metadata": {},
   "outputs": [
    {
     "data": {
      "text/plain": [
       "35"
      ]
     },
     "execution_count": 7,
     "metadata": {},
     "output_type": "execute_result"
    }
   ],
   "source": [
    "x+=5\n",
    "x"
   ]
  },
  {
   "cell_type": "code",
   "execution_count": 12,
   "id": "4b1f1f60",
   "metadata": {},
   "outputs": [],
   "source": [
    "y=35.0\n"
   ]
  },
  {
   "cell_type": "code",
   "execution_count": 13,
   "id": "4fd0ad05",
   "metadata": {},
   "outputs": [
    {
     "name": "stdout",
     "output_type": "stream",
     "text": [
      "Zeblearn\n"
     ]
    }
   ],
   "source": [
    "if (x==y):\n",
    "    print('Zeblearn')"
   ]
  },
  {
   "cell_type": "code",
   "execution_count": 14,
   "id": "d21559fb",
   "metadata": {},
   "outputs": [
    {
     "data": {
      "text/plain": [
       "False"
      ]
     },
     "execution_count": 14,
     "metadata": {},
     "output_type": "execute_result"
    }
   ],
   "source": [
    "x<y"
   ]
  },
  {
   "cell_type": "code",
   "execution_count": 15,
   "id": "e3293f27",
   "metadata": {},
   "outputs": [
    {
     "data": {
      "text/plain": [
       "False"
      ]
     },
     "execution_count": 15,
     "metadata": {},
     "output_type": "execute_result"
    }
   ],
   "source": [
    "x>y"
   ]
  },
  {
   "cell_type": "code",
   "execution_count": 18,
   "id": "a11005d6",
   "metadata": {},
   "outputs": [
    {
     "data": {
      "text/plain": [
       "13"
      ]
     },
     "execution_count": 18,
     "metadata": {},
     "output_type": "execute_result"
    }
   ],
   "source": [
    "x=15\n",
    "y=93\n",
    "x&y"
   ]
  },
  {
   "cell_type": "code",
   "execution_count": null,
   "id": "12e2b6bb",
   "metadata": {},
   "outputs": [],
   "source": [
    "  8\n",
    "& 0\n",
    "---\n",
    "  0"
   ]
  },
  {
   "cell_type": "code",
   "execution_count": null,
   "id": "1cfd5e7d",
   "metadata": {},
   "outputs": [],
   "source": [
    "x = 15 (binary: 00001111)\n",
    "y = 93 (binary: 01011101)\n",
    "x&y=============00001101\n",
    "2^3+2^2+1==8+4+1=13"
   ]
  },
  {
   "cell_type": "code",
   "execution_count": null,
   "id": "012fc564",
   "metadata": {},
   "outputs": [],
   "source": [
    "# identity operators"
   ]
  },
  {
   "cell_type": "code",
   "execution_count": 19,
   "id": "2d55a19f",
   "metadata": {},
   "outputs": [
    {
     "name": "stdout",
     "output_type": "stream",
     "text": [
      "False\n",
      "True\n"
     ]
    }
   ],
   "source": [
    "x=[1,2,3]   \n",
    "y=[1,2,3]\n",
    "z=x\n",
    "print(x is y)  # False - x and y are different objects with the same values\n",
    "print(x is z)  # True - x and z are the same object in memory"
   ]
  },
  {
   "cell_type": "code",
   "execution_count": 20,
   "id": "64b29227",
   "metadata": {},
   "outputs": [
    {
     "name": "stdout",
     "output_type": "stream",
     "text": [
      "2230148716608\n",
      "2230148716864\n",
      "2230148716608\n"
     ]
    }
   ],
   "source": [
    "print(id(x))\n",
    "print(id(y))\n",
    "print(id(z))"
   ]
  },
  {
   "cell_type": "code",
   "execution_count": 21,
   "id": "277bb97e",
   "metadata": {},
   "outputs": [
    {
     "name": "stdout",
     "output_type": "stream",
     "text": [
      "True\n",
      "False\n"
     ]
    }
   ],
   "source": [
    "x=[1,2,3]   \n",
    "y=[1,2,3]\n",
    "z=x\n",
    "print(x is not y)  # False - x and y are different objects with the same values\n",
    "print(x is not z)  # True - x and z are the same object in memory"
   ]
  },
  {
   "cell_type": "code",
   "execution_count": null,
   "id": "81ef4d0b",
   "metadata": {},
   "outputs": [],
   "source": [
    "# Membership Operators"
   ]
  },
  {
   "cell_type": "code",
   "execution_count": 22,
   "id": "a59e8bce",
   "metadata": {},
   "outputs": [
    {
     "name": "stdout",
     "output_type": "stream",
     "text": [
      "True\n",
      "False\n"
     ]
    }
   ],
   "source": [
    "fruits=['apple','banana','orange']\n",
    "print('banana' in fruits)\n",
    "print('papaya' in fruits)"
   ]
  },
  {
   "cell_type": "code",
   "execution_count": 23,
   "id": "c0c06e34",
   "metadata": {},
   "outputs": [
    {
     "name": "stdout",
     "output_type": "stream",
     "text": [
      "False\n",
      "True\n"
     ]
    }
   ],
   "source": [
    "fruits=['apple','banana','orange']\n",
    "print('banana' not in fruits)\n",
    "print('papaya' not in fruits)"
   ]
  },
  {
   "cell_type": "code",
   "execution_count": null,
   "id": "655ac167",
   "metadata": {},
   "outputs": [],
   "source": [
    "Membership operators are commonly used with strings, lists, tuples, sets, and \n",
    "dictionaries to check if a specific value exists within them."
   ]
  },
  {
   "cell_type": "code",
   "execution_count": 28,
   "id": "bf7f5256",
   "metadata": {},
   "outputs": [
    {
     "name": "stdout",
     "output_type": "stream",
     "text": [
      "True\n",
      "False\n"
     ]
    }
   ],
   "source": [
    "fruits=' Sachin and Umesh are leraning Python'\n",
    "print('Um' in fruits)\n",
    "print('sa' in fruits)"
   ]
  },
  {
   "cell_type": "markdown",
   "id": "1ff2a6f8",
   "metadata": {},
   "source": [
    "# Python Namespace"
   ]
  },
  {
   "cell_type": "code",
   "execution_count": null,
   "id": "eed303c1",
   "metadata": {},
   "outputs": [],
   "source": [
    "Python uses a namespace lookup mechanism to resolve \n",
    "names when they are referenced. It searches for a name in the \n",
    "local namespace first, then in the\n",
    "global namespace, and finally in the built-in namespace."
   ]
  },
  {
   "cell_type": "code",
   "execution_count": 32,
   "id": "02ce6d26",
   "metadata": {},
   "outputs": [
    {
     "name": "stdout",
     "output_type": "stream",
     "text": [
      "10\n",
      "20\n"
     ]
    }
   ],
   "source": [
    "t = 10  # Global namespace\n",
    "\n",
    "def foo():\n",
    "    y = 20  # Local namespace\n",
    "    print(t)  # Accessing x from global namespace\n",
    "    print(y)  # Accessing y from local namespace\n",
    "\n",
    "foo()\n",
    "\n"
   ]
  },
  {
   "cell_type": "code",
   "execution_count": 35,
   "id": "e27b62c5",
   "metadata": {},
   "outputs": [
    {
     "name": "stdout",
     "output_type": "stream",
     "text": [
      "Inside foo():\n",
      "x = 10\n",
      "y = 20\n",
      "Inside bar():\n",
      "x = 30\n",
      "Outside of any function:\n",
      "x = 65\n"
     ]
    }
   ],
   "source": [
    "x = 10  # Global variable\n",
    "\n",
    "def foo():\n",
    "    y = 20  # Local variable\n",
    "    print(\"Inside foo():\")\n",
    "    print(\"x =\", x)  # Accessing global variable\n",
    "    print(\"y =\", y)  # Accessing local variable\n",
    "    \n",
    "def bar():\n",
    "    x = 30  # Local variable with the same name as global variable\n",
    "    print(\"Inside bar():\")\n",
    "    print(\"x =\", x)  # Accessing local variable\n",
    "\n",
    "    \n",
    "foo()\n",
    "bar()\n",
    "\n",
    "x=65\n",
    "# Accessing global variable outside of any function\n",
    "print(\"Outside of any function:\")\n",
    "print(\"x =\", x)\n",
    "\n",
    "\n",
    "\n",
    "\n"
   ]
  },
  {
   "cell_type": "code",
   "execution_count": null,
   "id": "c3e955bf",
   "metadata": {},
   "outputs": [],
   "source": [
    "# built-in Namespace example"
   ]
  },
  {
   "cell_type": "code",
   "execution_count": 36,
   "id": "5006456d",
   "metadata": {},
   "outputs": [
    {
     "name": "stdout",
     "output_type": "stream",
     "text": [
      "Hello, world!\n",
      "<class 'int'>\n"
     ]
    }
   ],
   "source": [
    "# Using built-in functions\n",
    "\n",
    "# Print function\n",
    "print(\"Hello, world!\")\n",
    "\n",
    "# Type function\n",
    "x = 10\n",
    "print(type(x))  # Output: <class 'int'>"
   ]
  },
  {
   "cell_type": "code",
   "execution_count": 37,
   "id": "4825724b",
   "metadata": {},
   "outputs": [
    {
     "name": "stdout",
     "output_type": "stream",
     "text": [
      "5\n"
     ]
    }
   ],
   "source": [
    "# Len function\n",
    "my_list = [1, 2, 3, 4, 5]\n",
    "print(len(my_list))  # Output: 5"
   ]
  },
  {
   "cell_type": "code",
   "execution_count": 38,
   "id": "59c24cac",
   "metadata": {},
   "outputs": [
    {
     "name": "stdout",
     "output_type": "stream",
     "text": [
      "Error: division by zero\n"
     ]
    }
   ],
   "source": [
    "# Using built-in objects\n",
    "\n",
    "# Exception handling\n",
    "try:\n",
    "    result = 10 / 0\n",
    "except ZeroDivisionError as e:\n",
    "    print(\"Error:\", e)"
   ]
  },
  {
   "cell_type": "code",
   "execution_count": 41,
   "id": "4f896060",
   "metadata": {},
   "outputs": [
    {
     "name": "stdout",
     "output_type": "stream",
     "text": [
      "0 1 2 3 4 \n"
     ]
    }
   ],
   "source": [
    "# Range object\n",
    "for i in range(5):\n",
    "    print(i, end=' ')  # Output: 0 1 2 3 4\n",
    "print()"
   ]
  },
  {
   "cell_type": "code",
   "execution_count": 42,
   "id": "4328650e",
   "metadata": {},
   "outputs": [
    {
     "name": "stdout",
     "output_type": "stream",
     "text": [
      "HELLO, PYTHON!\n"
     ]
    }
   ],
   "source": [
    "# String object\n",
    "my_string = \"Hello, Python!\"\n",
    "print(my_string.upper())  # Output: HELLO, PYTHON!"
   ]
  },
  {
   "cell_type": "code",
   "execution_count": 44,
   "id": "ef0cd7e3",
   "metadata": {},
   "outputs": [
    {
     "name": "stdout",
     "output_type": "stream",
     "text": [
      "Help on list object:\n",
      "\n",
      "class list(object)\n",
      " |  list(iterable=(), /)\n",
      " |  \n",
      " |  Built-in mutable sequence.\n",
      " |  \n",
      " |  If no argument is given, the constructor creates a new empty list.\n",
      " |  The argument must be an iterable if specified.\n",
      " |  \n",
      " |  Methods defined here:\n",
      " |  \n",
      " |  __add__(self, value, /)\n",
      " |      Return self+value.\n",
      " |  \n",
      " |  __contains__(self, key, /)\n",
      " |      Return key in self.\n",
      " |  \n",
      " |  __delitem__(self, key, /)\n",
      " |      Delete self[key].\n",
      " |  \n",
      " |  __eq__(self, value, /)\n",
      " |      Return self==value.\n",
      " |  \n",
      " |  __ge__(self, value, /)\n",
      " |      Return self>=value.\n",
      " |  \n",
      " |  __getattribute__(self, name, /)\n",
      " |      Return getattr(self, name).\n",
      " |  \n",
      " |  __getitem__(...)\n",
      " |      x.__getitem__(y) <==> x[y]\n",
      " |  \n",
      " |  __gt__(self, value, /)\n",
      " |      Return self>value.\n",
      " |  \n",
      " |  __iadd__(self, value, /)\n",
      " |      Implement self+=value.\n",
      " |  \n",
      " |  __imul__(self, value, /)\n",
      " |      Implement self*=value.\n",
      " |  \n",
      " |  __init__(self, /, *args, **kwargs)\n",
      " |      Initialize self.  See help(type(self)) for accurate signature.\n",
      " |  \n",
      " |  __iter__(self, /)\n",
      " |      Implement iter(self).\n",
      " |  \n",
      " |  __le__(self, value, /)\n",
      " |      Return self<=value.\n",
      " |  \n",
      " |  __len__(self, /)\n",
      " |      Return len(self).\n",
      " |  \n",
      " |  __lt__(self, value, /)\n",
      " |      Return self<value.\n",
      " |  \n",
      " |  __mul__(self, value, /)\n",
      " |      Return self*value.\n",
      " |  \n",
      " |  __ne__(self, value, /)\n",
      " |      Return self!=value.\n",
      " |  \n",
      " |  __repr__(self, /)\n",
      " |      Return repr(self).\n",
      " |  \n",
      " |  __reversed__(self, /)\n",
      " |      Return a reverse iterator over the list.\n",
      " |  \n",
      " |  __rmul__(self, value, /)\n",
      " |      Return value*self.\n",
      " |  \n",
      " |  __setitem__(self, key, value, /)\n",
      " |      Set self[key] to value.\n",
      " |  \n",
      " |  __sizeof__(self, /)\n",
      " |      Return the size of the list in memory, in bytes.\n",
      " |  \n",
      " |  append(self, object, /)\n",
      " |      Append object to the end of the list.\n",
      " |  \n",
      " |  clear(self, /)\n",
      " |      Remove all items from list.\n",
      " |  \n",
      " |  copy(self, /)\n",
      " |      Return a shallow copy of the list.\n",
      " |  \n",
      " |  count(self, value, /)\n",
      " |      Return number of occurrences of value.\n",
      " |  \n",
      " |  extend(self, iterable, /)\n",
      " |      Extend list by appending elements from the iterable.\n",
      " |  \n",
      " |  index(self, value, start=0, stop=9223372036854775807, /)\n",
      " |      Return first index of value.\n",
      " |      \n",
      " |      Raises ValueError if the value is not present.\n",
      " |  \n",
      " |  insert(self, index, object, /)\n",
      " |      Insert object before index.\n",
      " |  \n",
      " |  pop(self, index=-1, /)\n",
      " |      Remove and return item at index (default last).\n",
      " |      \n",
      " |      Raises IndexError if list is empty or index is out of range.\n",
      " |  \n",
      " |  remove(self, value, /)\n",
      " |      Remove first occurrence of value.\n",
      " |      \n",
      " |      Raises ValueError if the value is not present.\n",
      " |  \n",
      " |  reverse(self, /)\n",
      " |      Reverse *IN PLACE*.\n",
      " |  \n",
      " |  sort(self, /, *, key=None, reverse=False)\n",
      " |      Sort the list in ascending order and return None.\n",
      " |      \n",
      " |      The sort is in-place (i.e. the list itself is modified) and stable (i.e. the\n",
      " |      order of two equal elements is maintained).\n",
      " |      \n",
      " |      If a key function is given, apply it once to each list item and sort them,\n",
      " |      ascending or descending, according to their function values.\n",
      " |      \n",
      " |      The reverse flag can be set to sort in descending order.\n",
      " |  \n",
      " |  ----------------------------------------------------------------------\n",
      " |  Class methods defined here:\n",
      " |  \n",
      " |  __class_getitem__(...) from builtins.type\n",
      " |      See PEP 585\n",
      " |  \n",
      " |  ----------------------------------------------------------------------\n",
      " |  Static methods defined here:\n",
      " |  \n",
      " |  __new__(*args, **kwargs) from builtins.type\n",
      " |      Create and return a new object.  See help(type) for accurate signature.\n",
      " |  \n",
      " |  ----------------------------------------------------------------------\n",
      " |  Data and other attributes defined here:\n",
      " |  \n",
      " |  __hash__ = None\n",
      "\n"
     ]
    }
   ],
   "source": [
    "help([list])"
   ]
  },
  {
   "cell_type": "code",
   "execution_count": 46,
   "id": "558d1594",
   "metadata": {},
   "outputs": [
    {
     "name": "stdout",
     "output_type": "stream",
     "text": [
      "Help on built-in function sqrt in module math:\n",
      "\n",
      "sqrt(x, /)\n",
      "    Return the square root of x.\n",
      "\n"
     ]
    }
   ],
   "source": [
    "import math\n",
    "help(math.sqrt)"
   ]
  },
  {
   "cell_type": "code",
   "execution_count": null,
   "id": "3ecb0521",
   "metadata": {},
   "outputs": [],
   "source": [
    "# Name Conflict in Python"
   ]
  },
  {
   "cell_type": "code",
   "execution_count": 47,
   "id": "d1115ffd",
   "metadata": {},
   "outputs": [
    {
     "name": "stdout",
     "output_type": "stream",
     "text": [
      "Local x: 20\n",
      "Global x: 10\n"
     ]
    }
   ],
   "source": [
    "# Global namespace\n",
    "x = 10\n",
    "\n",
    "def foo():\n",
    "    # Local namespace\n",
    "    x = 20  # This creates a local variable 'x', shadowing the global 'x'\n",
    "    print(\"Local x:\", x)\n",
    "\n",
    "foo()\n",
    "print(\"Global x:\", x)\n"
   ]
  },
  {
   "cell_type": "markdown",
   "id": "d641aac5",
   "metadata": {},
   "source": [
    "# List Tuples, Set and Dictionraies "
   ]
  },
  {
   "cell_type": "code",
   "execution_count": 1,
   "id": "7a775a05",
   "metadata": {},
   "outputs": [],
   "source": [
    "# create the List\n",
    "ume=[12,53.8,'T','Sachin']"
   ]
  },
  {
   "cell_type": "code",
   "execution_count": 2,
   "id": "bfe87ed3",
   "metadata": {},
   "outputs": [
    {
     "data": {
      "text/plain": [
       "[12, 53.8, 'T', 'Sachin']"
      ]
     },
     "execution_count": 2,
     "metadata": {},
     "output_type": "execute_result"
    }
   ],
   "source": [
    "ume"
   ]
  },
  {
   "cell_type": "code",
   "execution_count": 3,
   "id": "b81c01d5",
   "metadata": {},
   "outputs": [
    {
     "data": {
      "text/plain": [
       "[53.8, 'T']"
      ]
     },
     "execution_count": 3,
     "metadata": {},
     "output_type": "execute_result"
    }
   ],
   "source": [
    "# Access the list\n",
    "ume[1:3]"
   ]
  },
  {
   "cell_type": "code",
   "execution_count": null,
   "id": "5597810d",
   "metadata": {},
   "outputs": [],
   "source": [
    "ume[]"
   ]
  },
  {
   "cell_type": "code",
   "execution_count": 4,
   "id": "90fc6a5b",
   "metadata": {},
   "outputs": [],
   "source": [
    "# create the List\n",
    "ume=[1, 2, 3, 4, 5,12,53.8,'T','Sachin']"
   ]
  },
  {
   "cell_type": "code",
   "execution_count": 5,
   "id": "fe251697",
   "metadata": {},
   "outputs": [
    {
     "data": {
      "text/plain": [
       "[3, 4, 5, 12]"
      ]
     },
     "execution_count": 5,
     "metadata": {},
     "output_type": "execute_result"
    }
   ],
   "source": [
    "ume[2:6]"
   ]
  },
  {
   "cell_type": "code",
   "execution_count": 7,
   "id": "fbfe9bea",
   "metadata": {},
   "outputs": [
    {
     "data": {
      "text/plain": [
       "[53.8, 'T']"
      ]
     },
     "execution_count": 7,
     "metadata": {},
     "output_type": "execute_result"
    }
   ],
   "source": [
    "ume[-3:-1]"
   ]
  },
  {
   "cell_type": "code",
   "execution_count": 9,
   "id": "49956c9c",
   "metadata": {},
   "outputs": [
    {
     "data": {
      "text/plain": [
       "[4, 5, 12, 53.8, 'T', 'Sachin']"
      ]
     },
     "execution_count": 9,
     "metadata": {},
     "output_type": "execute_result"
    }
   ],
   "source": [
    "ume[-6:]"
   ]
  },
  {
   "cell_type": "code",
   "execution_count": 12,
   "id": "63ce2590",
   "metadata": {},
   "outputs": [
    {
     "data": {
      "text/plain": [
       "[1, 2, 3]"
      ]
     },
     "execution_count": 12,
     "metadata": {},
     "output_type": "execute_result"
    }
   ],
   "source": [
    "ume[:3]"
   ]
  },
  {
   "cell_type": "code",
   "execution_count": 14,
   "id": "a914b216",
   "metadata": {},
   "outputs": [
    {
     "data": {
      "text/plain": [
       "[1, 2, 3, 4, 5, 12, 53.8, 'T', 'Sachin']"
      ]
     },
     "execution_count": 14,
     "metadata": {},
     "output_type": "execute_result"
    }
   ],
   "source": [
    "ume"
   ]
  },
  {
   "cell_type": "code",
   "execution_count": 17,
   "id": "5ce053a5",
   "metadata": {},
   "outputs": [
    {
     "data": {
      "text/plain": [
       "[1, 4, 53.8]"
      ]
     },
     "execution_count": 17,
     "metadata": {},
     "output_type": "execute_result"
    }
   ],
   "source": [
    "ume[0:9:3]"
   ]
  },
  {
   "cell_type": "code",
   "execution_count": 15,
   "id": "2c40c0af",
   "metadata": {},
   "outputs": [
    {
     "data": {
      "text/plain": [
       "[1, 3, 5, 53.8, 'Sachin']"
      ]
     },
     "execution_count": 15,
     "metadata": {},
     "output_type": "execute_result"
    }
   ],
   "source": [
    "ume[::2]"
   ]
  },
  {
   "cell_type": "code",
   "execution_count": null,
   "id": "8a5b55e4",
   "metadata": {},
   "outputs": [],
   "source": []
  },
  {
   "cell_type": "code",
   "execution_count": 21,
   "id": "21cacdd0",
   "metadata": {},
   "outputs": [
    {
     "name": "stdout",
     "output_type": "stream",
     "text": [
      "Element found\n"
     ]
    }
   ],
   "source": [
    "# searching elements in List python \n",
    "my_list=[1,2,3,4]\n",
    "if 3 in my_list:\n",
    "    print(\"Element found\")\n",
    "    "
   ]
  },
  {
   "cell_type": "code",
   "execution_count": 22,
   "id": "da45d19d",
   "metadata": {},
   "outputs": [
    {
     "data": {
      "text/plain": [
       "[0, 1, 2, 2, 3, 4, 8, 9]"
      ]
     },
     "execution_count": 22,
     "metadata": {},
     "output_type": "execute_result"
    }
   ],
   "source": [
    "\n",
    "# sorting a list in Python\n",
    "my_list=[4,1,2,8,3,9,0,2]\n",
    "my_list.sort()\n",
    "my_list"
   ]
  },
  {
   "cell_type": "code",
   "execution_count": 23,
   "id": "5a736673",
   "metadata": {},
   "outputs": [
    {
     "data": {
      "text/plain": [
       "[9, 8, 4, 3, 2, 2, 1, 0]"
      ]
     },
     "execution_count": 23,
     "metadata": {},
     "output_type": "execute_result"
    }
   ],
   "source": [
    "\n",
    "# sorting a list in Python\n",
    "my_list=[4,1,2,8,3,9,0,2]\n",
    "my_list.sort(reverse=True)\n",
    "my_list"
   ]
  },
  {
   "cell_type": "code",
   "execution_count": 24,
   "id": "094b3abe",
   "metadata": {},
   "outputs": [
    {
     "data": {
      "text/plain": [
       "[9, 8, 4, 3, 2, 2, 1, 0]"
      ]
     },
     "execution_count": 24,
     "metadata": {},
     "output_type": "execute_result"
    }
   ],
   "source": [
    "# sorting a list in Python\n",
    "my_list=[4,1,2,8,3,9,0,2]\n",
    "umesh_list=sorted(my_list,reverse=True)\n",
    "umesh_list"
   ]
  },
  {
   "cell_type": "code",
   "execution_count": 28,
   "id": "2b68648d",
   "metadata": {},
   "outputs": [
    {
     "data": {
      "text/plain": [
       "[0, 1, 2, 3, 4]"
      ]
     },
     "execution_count": 28,
     "metadata": {},
     "output_type": "execute_result"
    }
   ],
   "source": [
    "my_list=range(5)\n",
    "my_list=list(my_list)\n",
    "my_list"
   ]
  },
  {
   "cell_type": "code",
   "execution_count": 29,
   "id": "29dc16c3",
   "metadata": {},
   "outputs": [
    {
     "data": {
      "text/plain": [
       "['Hello', ' World', ' Sachin!!']"
      ]
     },
     "execution_count": 29,
     "metadata": {},
     "output_type": "execute_result"
    }
   ],
   "source": [
    "my_string=\"Hello, World, Sachin!!\"\n",
    "split_list=list(my_string.split(\",\"))\n",
    "split_list"
   ]
  },
  {
   "cell_type": "code",
   "execution_count": 30,
   "id": "17fc61fc",
   "metadata": {},
   "outputs": [
    {
     "data": {
      "text/plain": [
       "['The',\n",
       " 'primary',\n",
       " 'difference',\n",
       " 'between',\n",
       " 'tuples',\n",
       " 'and',\n",
       " 'lists',\n",
       " 'is',\n",
       " 'that',\n",
       " 'tuples',\n",
       " 'are',\n",
       " 'immutable',\n",
       " 'as',\n",
       " 'opposed',\n",
       " 'to',\n",
       " 'lists',\n",
       " 'which',\n",
       " 'are',\n",
       " 'mutable.',\n",
       " 'Therefore,',\n",
       " 'it',\n",
       " 'is',\n",
       " 'possible',\n",
       " 'to',\n",
       " 'change',\n",
       " 'a',\n",
       " 'list',\n",
       " 'but',\n",
       " 'not',\n",
       " 'a',\n",
       " 'tuple.',\n",
       " 'The',\n",
       " 'contents',\n",
       " 'of',\n",
       " 'a',\n",
       " 'tuple',\n",
       " 'cannot',\n",
       " 'change',\n",
       " 'once',\n",
       " 'they',\n",
       " 'have',\n",
       " 'been',\n",
       " 'created',\n",
       " 'in',\n",
       " 'Python',\n",
       " 'due',\n",
       " 'to',\n",
       " 'the',\n",
       " 'immutability',\n",
       " 'of',\n",
       " 'tuples.']"
      ]
     },
     "execution_count": 30,
     "metadata": {},
     "output_type": "execute_result"
    }
   ],
   "source": [
    "my_string=\"The primary difference between tuples and lists is that tuples are immutable as opposed to lists which are mutable. Therefore, it is possible to change a list but not a tuple. The contents of a tuple cannot change once they have been created in Python due to the immutability of tuples.\"\n",
    "split_list=list(my_string.split(\" \"))\n",
    "split_list"
   ]
  },
  {
   "cell_type": "code",
   "execution_count": 31,
   "id": "7e150538",
   "metadata": {},
   "outputs": [
    {
     "data": {
      "text/plain": [
       "['The primary difference between tuples and lists is that tuples are immutable as opposed to lists which are mutable',\n",
       " ' Therefore, it is possible to change a list but not a tuple',\n",
       " ' The contents of a tuple cannot change once they have been created in Python due to the immutability of tuples',\n",
       " '']"
      ]
     },
     "execution_count": 31,
     "metadata": {},
     "output_type": "execute_result"
    }
   ],
   "source": [
    "my_string=\"The primary difference between tuples and lists is that tuples are immutable as opposed to lists which are mutable. Therefore, it is possible to change a list but not a tuple. The contents of a tuple cannot change once they have been created in Python due to the immutability of tuples.\"\n",
    "split_list=list(my_string.split(\".\"))\n",
    "split_list"
   ]
  },
  {
   "cell_type": "code",
   "execution_count": 35,
   "id": "e8f7cbaf",
   "metadata": {},
   "outputs": [
    {
     "data": {
      "text/plain": [
       "' The contents of a tuple cannot change once they have been created in Python due to the immutability of tuples'"
      ]
     },
     "execution_count": 35,
     "metadata": {},
     "output_type": "execute_result"
    }
   ],
   "source": [
    "split_list[-2]"
   ]
  },
  {
   "cell_type": "code",
   "execution_count": 37,
   "id": "c19c3613",
   "metadata": {},
   "outputs": [
    {
     "name": "stdout",
     "output_type": "stream",
     "text": [
      "<class 'list'>\n"
     ]
    }
   ],
   "source": [
    "print(type(my_list))"
   ]
  },
  {
   "cell_type": "code",
   "execution_count": 38,
   "id": "78bc6f65",
   "metadata": {},
   "outputs": [
    {
     "name": "stdout",
     "output_type": "stream",
     "text": [
      "<class 'float'>\n"
     ]
    }
   ],
   "source": [
    "sachin=4.5\n",
    "print(type(sachin))"
   ]
  },
  {
   "cell_type": "markdown",
   "id": "5d8f2b34",
   "metadata": {},
   "source": [
    "# Tuple"
   ]
  },
  {
   "cell_type": "code",
   "execution_count": 40,
   "id": "792666f4",
   "metadata": {},
   "outputs": [
    {
     "name": "stdout",
     "output_type": "stream",
     "text": [
      "a\n"
     ]
    }
   ],
   "source": [
    "my_tuple=(1,2,3,'a','b','c')\n",
    "print(my_tuple[3])"
   ]
  },
  {
   "cell_type": "code",
   "execution_count": 41,
   "id": "5cf3a624",
   "metadata": {},
   "outputs": [
    {
     "name": "stdout",
     "output_type": "stream",
     "text": [
      "1\n",
      "2\n",
      "3\n",
      "a\n",
      "b\n",
      "c\n"
     ]
    }
   ],
   "source": [
    "for item in my_tuple:\n",
    "    print(item)"
   ]
  },
  {
   "cell_type": "code",
   "execution_count": 42,
   "id": "68835423",
   "metadata": {},
   "outputs": [
    {
     "name": "stdout",
     "output_type": "stream",
     "text": [
      "1\n",
      "2\n",
      "3\n",
      "a\n",
      "b\n",
      "c\n"
     ]
    }
   ],
   "source": [
    "for sachin in my_tuple:\n",
    "    print(sachin)"
   ]
  },
  {
   "cell_type": "code",
   "execution_count": 43,
   "id": "b7d67a0c",
   "metadata": {},
   "outputs": [
    {
     "data": {
      "text/plain": [
       "(4, 5, 6, 7, 8, 9)"
      ]
     },
     "execution_count": 43,
     "metadata": {},
     "output_type": "execute_result"
    }
   ],
   "source": [
    "tuple1=(4,5,6)\n",
    "tuple2=(7,8,9)\n",
    "concate=tuple1+tuple2\n",
    "concate"
   ]
  },
  {
   "cell_type": "code",
   "execution_count": 44,
   "id": "a645d75d",
   "metadata": {},
   "outputs": [
    {
     "data": {
      "text/plain": [
       "(2, 3)"
      ]
     },
     "execution_count": 44,
     "metadata": {},
     "output_type": "execute_result"
    }
   ],
   "source": [
    "my_tuple[1:3]"
   ]
  },
  {
   "cell_type": "code",
   "execution_count": 45,
   "id": "bba13b7c",
   "metadata": {},
   "outputs": [
    {
     "data": {
      "text/plain": [
       "(5, 6)"
      ]
     },
     "execution_count": 45,
     "metadata": {},
     "output_type": "execute_result"
    }
   ],
   "source": [
    "concate[1:3]"
   ]
  },
  {
   "cell_type": "code",
   "execution_count": 46,
   "id": "04f80449",
   "metadata": {},
   "outputs": [
    {
     "ename": "TypeError",
     "evalue": "'tuple' object does not support item assignment",
     "output_type": "error",
     "traceback": [
      "\u001b[1;31m---------------------------------------------------------------------------\u001b[0m",
      "\u001b[1;31mTypeError\u001b[0m                                 Traceback (most recent call last)",
      "\u001b[1;32m~\\AppData\\Local\\Temp\\ipykernel_7432\\2227259940.py\u001b[0m in \u001b[0;36m<module>\u001b[1;34m\u001b[0m\n\u001b[1;32m----> 1\u001b[1;33m \u001b[0mconcate\u001b[0m\u001b[1;33m[\u001b[0m\u001b[1;36m2\u001b[0m\u001b[1;33m]\u001b[0m\u001b[1;33m=\u001b[0m\u001b[1;34m'Python'\u001b[0m\u001b[1;33m\u001b[0m\u001b[1;33m\u001b[0m\u001b[0m\n\u001b[0m",
      "\u001b[1;31mTypeError\u001b[0m: 'tuple' object does not support item assignment"
     ]
    }
   ],
   "source": [
    "concate[2]='Python'"
   ]
  },
  {
   "cell_type": "code",
   "execution_count": 47,
   "id": "081a49ee",
   "metadata": {},
   "outputs": [
    {
     "data": {
      "text/plain": [
       "[4, 5, 6, 7, 8, 9]"
      ]
     },
     "execution_count": 47,
     "metadata": {},
     "output_type": "execute_result"
    }
   ],
   "source": [
    "tuple1=[4,5,6]\n",
    "tuple2=[7,8,9]\n",
    "concate=tuple1+tuple2\n",
    "concate"
   ]
  },
  {
   "cell_type": "code",
   "execution_count": 48,
   "id": "13676c60",
   "metadata": {},
   "outputs": [],
   "source": [
    "concate[2]='Python'"
   ]
  },
  {
   "cell_type": "code",
   "execution_count": 49,
   "id": "c2c1e5fc",
   "metadata": {},
   "outputs": [
    {
     "data": {
      "text/plain": [
       "[4, 5, 'Python', 7, 8, 9]"
      ]
     },
     "execution_count": 49,
     "metadata": {},
     "output_type": "execute_result"
    }
   ],
   "source": [
    "concate"
   ]
  },
  {
   "cell_type": "code",
   "execution_count": 50,
   "id": "e83f8e24",
   "metadata": {},
   "outputs": [],
   "source": [
    "# Chennai Express  12587\n",
    "# Name of passangers "
   ]
  },
  {
   "cell_type": "markdown",
   "id": "5b564181",
   "metadata": {},
   "source": [
    "# Decision Making Loops in Python"
   ]
  },
  {
   "cell_type": "markdown",
   "id": "b47e65d0",
   "metadata": {},
   "source": [
    "## Python if, if-else, else-if, nested-if "
   ]
  },
  {
   "cell_type": "code",
   "execution_count": 1,
   "id": "f9e0757f",
   "metadata": {},
   "outputs": [
    {
     "name": "stdout",
     "output_type": "stream",
     "text": [
      "x is greater than y\n"
     ]
    }
   ],
   "source": [
    "x=10\n",
    "y=5\n",
    "\n",
    "if x>y:\n",
    "    print(\"x is greater than y\")"
   ]
  },
  {
   "cell_type": "code",
   "execution_count": 5,
   "id": "6d8fe4fa",
   "metadata": {},
   "outputs": [
    {
     "name": "stdout",
     "output_type": "stream",
     "text": [
      "t is True\n"
     ]
    }
   ],
   "source": [
    "t=10\n",
    "# t=t-10\n",
    "\n",
    "if t:\n",
    "    print(\"t is True\")\n",
    "else: \n",
    "    print(\"t is False\")\n",
    "    "
   ]
  },
  {
   "cell_type": "code",
   "execution_count": 15,
   "id": "461816be",
   "metadata": {},
   "outputs": [
    {
     "name": "stdout",
     "output_type": "stream",
     "text": [
      "enter your x value...78\n",
      "enter your y value...14\n",
      "x is not eaquivalant to y\n"
     ]
    }
   ],
   "source": [
    "x=int(input(\"enter your x value...\"))\n",
    "y=int(input(\"enter your y value...\"))\n",
    "\n",
    "if x==y:\n",
    "    print(\"x is eaquivalant to y\")\n",
    "else:\n",
    "    print(\"x is not eaquivalant to y\")\n",
    "    "
   ]
  },
  {
   "cell_type": "code",
   "execution_count": 13,
   "id": "af489cdf",
   "metadata": {},
   "outputs": [
    {
     "data": {
      "text/plain": [
       "int"
      ]
     },
     "execution_count": 13,
     "metadata": {},
     "output_type": "execute_result"
    }
   ],
   "source": [
    "type(y)"
   ]
  },
  {
   "cell_type": "code",
   "execution_count": 16,
   "id": "18ef60e8",
   "metadata": {},
   "outputs": [
    {
     "name": "stdout",
     "output_type": "stream",
     "text": [
      "enter your x value...78\n",
      "enter your y value...15\n",
      "x is greater than y\n"
     ]
    }
   ],
   "source": [
    "# if-elif-else\n",
    "\n",
    "x=int(input(\"enter your x value...\"))\n",
    "y=int(input(\"enter your y value...\"))\n",
    "\n",
    "if x==y:\n",
    "    print(\"x is eaquivalant to y\")\n",
    "elif x>y:\n",
    "    print(\"x is greater than y\")\n",
    "else:\n",
    "    print(\"x is not eaquivalant to y\")"
   ]
  },
  {
   "cell_type": "code",
   "execution_count": 19,
   "id": "d301b8e9",
   "metadata": {},
   "outputs": [
    {
     "name": "stdout",
     "output_type": "stream",
     "text": [
      "enter your x value...74\n",
      "enter your y value...82\n",
      "enter your z value...96\n",
      "Largest number is 96\n"
     ]
    }
   ],
   "source": [
    "# find the largest number out of three varaibales \n",
    "x=int(input(\"enter your x value...\"))\n",
    "y=int(input(\"enter your y value...\"))\n",
    "z=int(input(\"enter your z value...\"))\n",
    "\n",
    "largest=0\n",
    "\n",
    "if x>=y and x>=z:\n",
    "    largest=x\n",
    "elif y>=x and y>=z:\n",
    "    largest=y\n",
    "else:\n",
    "    largest=z\n",
    "    \n",
    "print(\"Largest number is\", largest)"
   ]
  },
  {
   "cell_type": "code",
   "execution_count": 22,
   "id": "81096d01",
   "metadata": {},
   "outputs": [
    {
     "name": "stdout",
     "output_type": "stream",
     "text": [
      "enter your x value...45\n",
      "enter your y value...63\n",
      "enter your z value...86\n",
      "Largest number is 86\n"
     ]
    }
   ],
   "source": [
    "# find the largest number out of three varaibales \n",
    "x=int(input(\"enter your x value...\"))\n",
    "y=int(input(\"enter your y value...\"))\n",
    "z=int(input(\"enter your z value...\"))\n",
    "\n",
    "largest=0\n",
    "\n",
    "if x>=y:\n",
    "    if x>=z:\n",
    "        largest=x\n",
    "else:\n",
    "    if y>=z:\n",
    "        largest=y\n",
    "    else:\n",
    "        largest=z\n",
    "\n",
    "    \n",
    "print(\"Largest number is\", largest)"
   ]
  },
  {
   "cell_type": "markdown",
   "id": "9c07ae12",
   "metadata": {},
   "source": [
    "# for loop"
   ]
  },
  {
   "cell_type": "code",
   "execution_count": 23,
   "id": "0c22e7a6",
   "metadata": {},
   "outputs": [
    {
     "name": "stdout",
     "output_type": "stream",
     "text": [
      "apple\n",
      "banana\n",
      "cherry\n"
     ]
    }
   ],
   "source": [
    "fruits=[\"apple\",\"banana\",\"cherry\"]\n",
    "for f in fruits:\n",
    "    print(f)"
   ]
  },
  {
   "cell_type": "code",
   "execution_count": 26,
   "id": "d800d73f",
   "metadata": {},
   "outputs": [
    {
     "name": "stdout",
     "output_type": "stream",
     "text": [
      "apple\n",
      "banana\n",
      "cherry\n"
     ]
    }
   ],
   "source": [
    "fruits=[\"apple\",\"banana\",\"cherry\"]\n",
    "for f in range(0,3):\n",
    "    print(fruits[f])"
   ]
  },
  {
   "cell_type": "code",
   "execution_count": 27,
   "id": "98753d4f",
   "metadata": {},
   "outputs": [
    {
     "name": "stdout",
     "output_type": "stream",
     "text": [
      "0\n",
      "1\n",
      "2\n",
      "3\n",
      "4\n",
      "5\n",
      "6\n",
      "7\n",
      "8\n",
      "9\n"
     ]
    }
   ],
   "source": [
    "for i in range(0,10):\n",
    "    print(i)"
   ]
  },
  {
   "cell_type": "code",
   "execution_count": 29,
   "id": "017c2ef5",
   "metadata": {},
   "outputs": [
    {
     "name": "stdout",
     "output_type": "stream",
     "text": [
      "Umesh  0\n",
      "Umesh  1\n",
      "Umesh  2\n",
      "Umesh  3\n",
      "Umesh  4\n",
      "Umesh  5\n",
      "Umesh  6\n",
      "Umesh  7\n",
      "Umesh  8\n",
      "Umesh  9\n"
     ]
    }
   ],
   "source": [
    "# while loop\n",
    "i=0\n",
    "while i<10:\n",
    "    print(\"Umesh \",i)\n",
    "    i=i+1"
   ]
  },
  {
   "cell_type": "code",
   "execution_count": 30,
   "id": "823ac121",
   "metadata": {},
   "outputs": [
    {
     "name": "stdout",
     "output_type": "stream",
     "text": [
      "Umesh  2\n",
      "Umesh  3\n",
      "Umesh  4\n",
      "Umesh  5\n",
      "Umesh  6\n",
      "Umesh  7\n",
      "Umesh  8\n",
      "Umesh  9\n",
      "Umesh  10\n",
      "Umesh  11\n",
      "Umesh  12\n",
      "Umesh  13\n",
      "Umesh  14\n",
      "Umesh  15\n",
      "Umesh  16\n",
      "Umesh  17\n",
      "Umesh  18\n",
      "Umesh  19\n",
      "Umesh  20\n"
     ]
    }
   ],
   "source": [
    "# while loop\n",
    "i=2\n",
    "while i<21:\n",
    "    print(\"Umesh \",i)\n",
    "    i=i+1"
   ]
  },
  {
   "cell_type": "code",
   "execution_count": 31,
   "id": "a2a5555f",
   "metadata": {},
   "outputs": [
    {
     "name": "stdout",
     "output_type": "stream",
     "text": [
      "Umesh  2\n",
      "Umesh  3\n",
      "Umesh  4\n",
      "Umesh  5\n",
      "Umesh  6\n",
      "Umesh  7\n",
      "Umesh  8\n",
      "Umesh  9\n",
      "Umesh  10\n",
      "Umesh  11\n",
      "Umesh  12\n",
      "Umesh  13\n",
      "Umesh  14\n",
      "Umesh  15\n"
     ]
    }
   ],
   "source": [
    "# break condition\n",
    "\n",
    "# while loop\n",
    "i=2\n",
    "while i<21:\n",
    "    print(\"Umesh \",i)\n",
    "    if i==15:\n",
    "        break\n",
    "    i=i+1"
   ]
  },
  {
   "cell_type": "code",
   "execution_count": 36,
   "id": "bd005253",
   "metadata": {},
   "outputs": [
    {
     "name": "stdout",
     "output_type": "stream",
     "text": [
      "Enter a number(press 'q' to quit): qwe\n",
      "Enter a number(press 'q' to quit): Qese\n",
      "Enter a number(press 'q' to quit): tgy\n",
      "Enter a number(press 'q' to quit): ujh\n",
      "Enter a number(press 'q' to quit): Q\n",
      "Thnnks for gaming with GT5\n"
     ]
    }
   ],
   "source": [
    "while True:\n",
    "    user_input=input(\"Enter a number(press 'q' to quit): \")\n",
    "    \n",
    "    if user_input=='q' or user_input=='Q':\n",
    "        print(\"Thnnks for gaming with GT5\")\n",
    "        break"
   ]
  },
  {
   "cell_type": "code",
   "execution_count": 40,
   "id": "487b628c",
   "metadata": {},
   "outputs": [
    {
     "name": "stdout",
     "output_type": "stream",
     "text": [
      "2\n",
      "4\n",
      "6\n",
      "8\n",
      "10\n"
     ]
    }
   ],
   "source": [
    "numbers = [1, 2, 3, 4, 5, 6, 7, 8, 9, 10]\n",
    "\n",
    "for number in numbers:\n",
    "    # Skip even numbers\n",
    "    if number % 2 != 0:\n",
    "        continue\n",
    "    \n",
    "    print(number)\n",
    "\n",
    "\n"
   ]
  },
  {
   "cell_type": "markdown",
   "id": "1b0860d8",
   "metadata": {},
   "source": [
    "# What is Module?"
   ]
  },
  {
   "cell_type": "code",
   "execution_count": 3,
   "id": "45e3b8c2",
   "metadata": {},
   "outputs": [
    {
     "data": {
      "text/plain": [
       "4.0"
      ]
     },
     "execution_count": 3,
     "metadata": {},
     "output_type": "execute_result"
    }
   ],
   "source": [
    "import math\n",
    "result=sqrt(16)\n",
    "result"
   ]
  },
  {
   "cell_type": "code",
   "execution_count": 2,
   "id": "bc8e7169",
   "metadata": {},
   "outputs": [
    {
     "data": {
      "text/plain": [
       "4.0"
      ]
     },
     "execution_count": 2,
     "metadata": {},
     "output_type": "execute_result"
    }
   ],
   "source": [
    "from math import sqrt\n",
    "result=sqrt(16)\n",
    "result"
   ]
  },
  {
   "cell_type": "code",
   "execution_count": 5,
   "id": "6adc1b9c",
   "metadata": {},
   "outputs": [
    {
     "data": {
      "text/plain": [
       "-0.2879033166650653"
      ]
     },
     "execution_count": 5,
     "metadata": {},
     "output_type": "execute_result"
    }
   ],
   "source": [
    "import math\n",
    "result=math.sin(16)\n",
    "result"
   ]
  },
  {
   "cell_type": "code",
   "execution_count": 8,
   "id": "71e5491e",
   "metadata": {},
   "outputs": [
    {
     "data": {
      "text/plain": [
       "2.302585092994046"
      ]
     },
     "execution_count": 8,
     "metadata": {},
     "output_type": "execute_result"
    }
   ],
   "source": [
    "import math\n",
    "result=math.log(10)\n",
    "result"
   ]
  },
  {
   "cell_type": "code",
   "execution_count": null,
   "id": "496b6de4",
   "metadata": {},
   "outputs": [],
   "source": [
    "# How to import a Module?\n",
    "#  Import module\n",
    "#  The from… import statement\n",
    "#  The from…import* statement use"
   ]
  },
  {
   "cell_type": "code",
   "execution_count": 12,
   "id": "0a7e9697",
   "metadata": {},
   "outputs": [
    {
     "data": {
      "text/plain": [
       "12.566370614359172"
      ]
     },
     "execution_count": 12,
     "metadata": {},
     "output_type": "execute_result"
    }
   ],
   "source": [
    "r=2\n",
    "circle_area=math.pi*r*r\n",
    "circle_area"
   ]
  },
  {
   "cell_type": "code",
   "execution_count": 11,
   "id": "b881d56e",
   "metadata": {},
   "outputs": [
    {
     "data": {
      "text/plain": [
       "3.142857142857143"
      ]
     },
     "execution_count": 11,
     "metadata": {},
     "output_type": "execute_result"
    }
   ],
   "source": [
    "22/7"
   ]
  },
  {
   "cell_type": "code",
   "execution_count": 14,
   "id": "c0c557b5",
   "metadata": {},
   "outputs": [
    {
     "data": {
      "text/plain": [
       "120"
      ]
     },
     "execution_count": 14,
     "metadata": {},
     "output_type": "execute_result"
    }
   ],
   "source": [
    "math.factorial(5)"
   ]
  },
  {
   "cell_type": "code",
   "execution_count": null,
   "id": "c25a9b98",
   "metadata": {},
   "outputs": [],
   "source": [
    "from my_package import module_name\n"
   ]
  },
  {
   "cell_type": "code",
   "execution_count": null,
   "id": "170613e9",
   "metadata": {},
   "outputs": [],
   "source": [
    "import * from math "
   ]
  },
  {
   "cell_type": "code",
   "execution_count": null,
   "id": "2a4ec806",
   "metadata": {},
   "outputs": [],
   "source": [
    "import sys\n",
    "sys.path.append('/path/to/module_directory')\n",
    "\n",
    "import module_name\n"
   ]
  },
  {
   "cell_type": "markdown",
   "id": "933e0502",
   "metadata": {},
   "source": [
    "# Introduction to Function\n",
    "<!--  Defining a Function\n",
    " Calling a Functi -->"
   ]
  },
  {
   "cell_type": "code",
   "execution_count": 1,
   "id": "37214f45",
   "metadata": {},
   "outputs": [],
   "source": [
    "# function defintion \n",
    "def zeblearn():\n",
    "    print(\"Hello\")"
   ]
  },
  {
   "cell_type": "code",
   "execution_count": 2,
   "id": "8765b53d",
   "metadata": {},
   "outputs": [
    {
     "name": "stdout",
     "output_type": "stream",
     "text": [
      "Hello\n"
     ]
    }
   ],
   "source": [
    "#function calling\n",
    "zeblearn()"
   ]
  },
  {
   "cell_type": "code",
   "execution_count": 3,
   "id": "e536f7d5",
   "metadata": {},
   "outputs": [],
   "source": [
    "# function defintion \n",
    "def zeblearn(x):\n",
    "    print(\"Hello\")\n",
    "    x=x+5\n",
    "    print(x)"
   ]
  },
  {
   "cell_type": "code",
   "execution_count": 4,
   "id": "2264479b",
   "metadata": {},
   "outputs": [
    {
     "name": "stdout",
     "output_type": "stream",
     "text": [
      "Hello\n",
      "8\n"
     ]
    }
   ],
   "source": [
    "#function calling\n",
    "zeblearn(3)"
   ]
  },
  {
   "cell_type": "code",
   "execution_count": 5,
   "id": "9a005d6e",
   "metadata": {},
   "outputs": [],
   "source": [
    "# function defintion \n",
    "def zeblearn(x,y):\n",
    "    print(\"Hello\")\n",
    "    x=x+y\n",
    "    print(x)"
   ]
  },
  {
   "cell_type": "code",
   "execution_count": 6,
   "id": "47c1afbf",
   "metadata": {},
   "outputs": [
    {
     "name": "stdout",
     "output_type": "stream",
     "text": [
      "Hello\n",
      "12\n"
     ]
    }
   ],
   "source": [
    "#function calling\n",
    "zeblearn(3,9)"
   ]
  },
  {
   "cell_type": "code",
   "execution_count": 28,
   "id": "5d32ae01",
   "metadata": {},
   "outputs": [],
   "source": [
    "# function defintion \n",
    "def zeblearn(x,y,age,z=\"Please add your name here \"):\n",
    "    print(\"My name is :\", z)\n",
    "    print(\"My age is: \",age)\n",
    "    x=x*y\n",
    "    print(x)"
   ]
  },
  {
   "cell_type": "code",
   "execution_count": 31,
   "id": "3197268e",
   "metadata": {},
   "outputs": [
    {
     "name": "stdout",
     "output_type": "stream",
     "text": [
      "My name is : Umesh\n",
      "My age is:  25\n",
      "27\n"
     ]
    }
   ],
   "source": [
    "#function calling\n",
    "zeblearn(3,9,25,\"Umesh\")"
   ]
  },
  {
   "cell_type": "code",
   "execution_count": 18,
   "id": "c44a4611",
   "metadata": {},
   "outputs": [],
   "source": [
    "def example(*args,**kwargs):\n",
    "    for arg in args:\n",
    "        print(arg)\n",
    "    for key,value in kwargs.items():\n",
    "        print(f\"{key}:{value}\")\n",
    "        "
   ]
  },
  {
   "cell_type": "code",
   "execution_count": 26,
   "id": "7c6f24e9",
   "metadata": {},
   "outputs": [
    {
     "name": "stdout",
     "output_type": "stream",
     "text": [
      "1\n",
      "2\n",
      "3\n",
      "4\n",
      "5\n",
      "6\n",
      "7\n",
      "8\n",
      "name:Sachin\n",
      "age:25\n",
      "cont:890960\n",
      "add:New Delhi\n"
     ]
    }
   ],
   "source": [
    "example(1, 2, 3, 4, 5, 6, 7, 8, name='Sachin', age=25, cont=\"890960\", add=\"New Delhi\")"
   ]
  },
  {
   "cell_type": "code",
   "execution_count": null,
   "id": "6acfdce7",
   "metadata": {},
   "outputs": [],
   "source": []
  },
  {
   "cell_type": "code",
   "execution_count": 35,
   "id": "a8f67b5b",
   "metadata": {},
   "outputs": [],
   "source": [
    "def example(**kwargs):\n",
    "    for key,value in kwargs.items():\n",
    "        print(f\"{key}:{value}\")\n",
    "        \n",
    " "
   ]
  },
  {
   "cell_type": "code",
   "execution_count": 43,
   "id": "ae391dfe",
   "metadata": {},
   "outputs": [
    {
     "name": "stdout",
     "output_type": "stream",
     "text": [
      "name:Sachin\n",
      "age:25\n",
      "cont:890960\n",
      "add:New Delhi\n"
     ]
    }
   ],
   "source": [
    "example( name='Sachin', age=25, cont=\"890960\", add=\"New Delhi\",)\n"
   ]
  },
  {
   "cell_type": "code",
   "execution_count": 44,
   "id": "d0738519",
   "metadata": {},
   "outputs": [
    {
     "name": "stdout",
     "output_type": "stream",
     "text": [
      "name:Umesh\n",
      "age:21\n",
      "cont:88547\n",
      "add:Banglore\n"
     ]
    }
   ],
   "source": [
    "example( name='Umesh', age=21, cont=\"88547\", add=\"Banglore\",)"
   ]
  },
  {
   "cell_type": "code",
   "execution_count": 45,
   "id": "25c10a57",
   "metadata": {},
   "outputs": [
    {
     "name": "stdout",
     "output_type": "stream",
     "text": [
      "name:Priya\n",
      "age:21\n",
      "cont:88547\n",
      "add:Banglore\n"
     ]
    }
   ],
   "source": [
    "example( name='Priya', age=21, cont=\"88547\", add=\"Banglore\",)"
   ]
  },
  {
   "cell_type": "code",
   "execution_count": 58,
   "id": "1a2ffe1c",
   "metadata": {},
   "outputs": [],
   "source": [
    "# Scope of the Variables\n",
    "x=25\n",
    "def my_function():\n",
    "    x=10\n",
    "    x+=5\n",
    "    print(\"Inside the funct: \",x)\n",
    "    "
   ]
  },
  {
   "cell_type": "code",
   "execution_count": 59,
   "id": "915565ce",
   "metadata": {},
   "outputs": [
    {
     "name": "stdout",
     "output_type": "stream",
     "text": [
      "Inside the funct:  15\n",
      "Outside the funct:  25\n"
     ]
    }
   ],
   "source": [
    "my_function()\n",
    "print(\"Outside the funct: \",x)"
   ]
  },
  {
   "cell_type": "code",
   "execution_count": 56,
   "id": "93a2d35d",
   "metadata": {},
   "outputs": [],
   "source": [
    "# Scope of the Variables\n",
    "x=25\n",
    "def my_function():\n",
    "    global x\n",
    "    x+=5\n",
    "    print(\"Inside the funct: \",x)\n",
    "    "
   ]
  },
  {
   "cell_type": "code",
   "execution_count": 57,
   "id": "be2f7888",
   "metadata": {},
   "outputs": [
    {
     "name": "stdout",
     "output_type": "stream",
     "text": [
      "Inside the funct:  30\n",
      "Outside the funct:  30\n"
     ]
    }
   ],
   "source": [
    "my_function()\n",
    "print(\"Outside the funct: \",x)"
   ]
  },
  {
   "cell_type": "code",
   "execution_count": 60,
   "id": "bbbfdfd3",
   "metadata": {},
   "outputs": [],
   "source": [
    "# Passing function to a Function\n",
    "def add(a,b):\n",
    "    return a+b\n",
    "\n",
    "def multiply(a,b):\n",
    "    return a*b\n",
    "\n",
    "def apply_operation(operation,x,y):\n",
    "    return operation(x,y)    #add(5,3)\n",
    "\n"
   ]
  },
  {
   "cell_type": "code",
   "execution_count": 61,
   "id": "5b90f527",
   "metadata": {},
   "outputs": [
    {
     "name": "stdout",
     "output_type": "stream",
     "text": [
      "8\n"
     ]
    }
   ],
   "source": [
    "result=apply_operation(add,5,3)\n",
    "print(result)"
   ]
  },
  {
   "cell_type": "code",
   "execution_count": 62,
   "id": "7e2dd008",
   "metadata": {},
   "outputs": [
    {
     "name": "stdout",
     "output_type": "stream",
     "text": [
      "15\n"
     ]
    }
   ],
   "source": [
    "result=apply_operation(multiply,5,3)\n",
    "print(result)"
   ]
  },
  {
   "cell_type": "code",
   "execution_count": null,
   "id": "711b4b13",
   "metadata": {},
   "outputs": [],
   "source": []
  },
  {
   "cell_type": "code",
   "execution_count": null,
   "id": "52c2eae7",
   "metadata": {},
   "outputs": [],
   "source": []
  },
  {
   "cell_type": "code",
   "execution_count": null,
   "id": "935ca6e5",
   "metadata": {},
   "outputs": [],
   "source": []
  },
  {
   "cell_type": "code",
   "execution_count": null,
   "id": "3b3cc0b6",
   "metadata": {},
   "outputs": [],
   "source": []
  },
  {
   "cell_type": "code",
   "execution_count": null,
   "id": "1f091331",
   "metadata": {},
   "outputs": [],
   "source": []
  },
  {
   "cell_type": "code",
   "execution_count": null,
   "id": "343b80d3",
   "metadata": {},
   "outputs": [],
   "source": []
  },
  {
   "cell_type": "code",
   "execution_count": null,
   "id": "ef10e215",
   "metadata": {},
   "outputs": [],
   "source": []
  },
  {
   "cell_type": "code",
   "execution_count": null,
   "id": "18d0aa7d",
   "metadata": {},
   "outputs": [],
   "source": []
  },
  {
   "cell_type": "code",
   "execution_count": null,
   "id": "99d42f59",
   "metadata": {},
   "outputs": [],
   "source": []
  },
  {
   "cell_type": "code",
   "execution_count": null,
   "id": "b0250b83",
   "metadata": {},
   "outputs": [],
   "source": []
  },
  {
   "cell_type": "code",
   "execution_count": null,
   "id": "c7b8ed9d",
   "metadata": {},
   "outputs": [],
   "source": []
  }
 ],
 "metadata": {
  "kernelspec": {
   "display_name": "Python 3 (ipykernel)",
   "language": "python",
   "name": "python3"
  },
  "language_info": {
   "codemirror_mode": {
    "name": "ipython",
    "version": 3
   },
   "file_extension": ".py",
   "mimetype": "text/x-python",
   "name": "python",
   "nbconvert_exporter": "python",
   "pygments_lexer": "ipython3",
   "version": "3.9.13"
  }
 },
 "nbformat": 4,
 "nbformat_minor": 5
}
