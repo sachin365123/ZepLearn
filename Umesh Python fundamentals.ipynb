{
 "cells": [
  {
   "cell_type": "code",
   "execution_count": null,
   "id": "b81b3512",
   "metadata": {},
   "outputs": [],
   "source": [
    "# Literals\n",
    "# Strings\n",
    "# Float\n",
    "# Integers\n",
    "# Character\n",
    "# Boolean\n",
    "# None"
   ]
  },
  {
   "cell_type": "code",
   "execution_count": 6,
   "id": "ee0ceb69",
   "metadata": {},
   "outputs": [
    {
     "name": "stdout",
     "output_type": "stream",
     "text": [
      "Enter your Name ?  Sachin\n",
      "Sachin\n"
     ]
    }
   ],
   "source": [
    "# Keywords\n",
    "# quotes\n",
    "str1=input(\"Enter your Name ?  \")\n",
    "print(str1)\n",
    "\n",
    "\n"
   ]
  },
  {
   "cell_type": "code",
   "execution_count": null,
   "id": "71c06615",
   "metadata": {},
   "outputs": [],
   "source": [
    "# identifiers ???"
   ]
  },
  {
   "cell_type": "code",
   "execution_count": 8,
   "id": "57e93720",
   "metadata": {},
   "outputs": [],
   "source": [
    "name=\"Umesh\"\n",
    "# string"
   ]
  },
  {
   "cell_type": "code",
   "execution_count": 9,
   "id": "4eb17c62",
   "metadata": {},
   "outputs": [
    {
     "name": "stdout",
     "output_type": "stream",
     "text": [
      "Umesh\n"
     ]
    }
   ],
   "source": [
    "print(name)"
   ]
  },
  {
   "cell_type": "code",
   "execution_count": 10,
   "id": "7e9ce23e",
   "metadata": {},
   "outputs": [
    {
     "name": "stdout",
     "output_type": "stream",
     "text": [
      "25\n"
     ]
    }
   ],
   "source": [
    "age=25\n",
    "# integer\n",
    "print(age)"
   ]
  },
  {
   "cell_type": "code",
   "execution_count": 11,
   "id": "bd0ec2a2",
   "metadata": {},
   "outputs": [
    {
     "name": "stdout",
     "output_type": "stream",
     "text": [
      "4500.5\n"
     ]
    }
   ],
   "source": [
    "salary=4500.5\n",
    "\n",
    "print(salary)"
   ]
  },
  {
   "cell_type": "code",
   "execution_count": 12,
   "id": "fd308e0d",
   "metadata": {},
   "outputs": [
    {
     "data": {
      "text/plain": [
       "float"
      ]
     },
     "execution_count": 12,
     "metadata": {},
     "output_type": "execute_result"
    }
   ],
   "source": [
    "type(salary)"
   ]
  },
  {
   "cell_type": "code",
   "execution_count": 13,
   "id": "d6f85b3c",
   "metadata": {},
   "outputs": [
    {
     "data": {
      "text/plain": [
       "str"
      ]
     },
     "execution_count": 13,
     "metadata": {},
     "output_type": "execute_result"
    }
   ],
   "source": [
    "type(name)"
   ]
  },
  {
   "cell_type": "code",
   "execution_count": 14,
   "id": "f294d571",
   "metadata": {},
   "outputs": [
    {
     "data": {
      "text/plain": [
       "int"
      ]
     },
     "execution_count": 14,
     "metadata": {},
     "output_type": "execute_result"
    }
   ],
   "source": [
    "type(age)"
   ]
  },
  {
   "cell_type": "code",
   "execution_count": 19,
   "id": "a6b0315f",
   "metadata": {},
   "outputs": [
    {
     "name": "stdout",
     "output_type": "stream",
     "text": [
      "False\n"
     ]
    }
   ],
   "source": [
    "is_He_Alive=False\n",
    "print(is_He_Alive)"
   ]
  },
  {
   "cell_type": "code",
   "execution_count": 20,
   "id": "52b4dde0",
   "metadata": {},
   "outputs": [
    {
     "data": {
      "text/plain": [
       "bool"
      ]
     },
     "execution_count": 20,
     "metadata": {},
     "output_type": "execute_result"
    }
   ],
   "source": [
    "type(is_He_Alive)"
   ]
  },
  {
   "cell_type": "code",
   "execution_count": 25,
   "id": "22e20362",
   "metadata": {},
   "outputs": [
    {
     "ename": "SyntaxError",
     "evalue": "invalid syntax (1481753167.py, line 1)",
     "output_type": "error",
     "traceback": [
      "\u001b[1;36m  File \u001b[1;32m\"C:\\Users\\Sachin\\AppData\\Local\\Temp\\ipykernel_15848\\1481753167.py\"\u001b[1;36m, line \u001b[1;32m1\u001b[0m\n\u001b[1;33m    x is sales and y is market value\u001b[0m\n\u001b[1;37m                               ^\u001b[0m\n\u001b[1;31mSyntaxError\u001b[0m\u001b[1;31m:\u001b[0m invalid syntax\n"
     ]
    }
   ],
   "source": [
    "# x is sales and y is market value\n",
    "x=10\n",
    "y=20\n",
    "z=x+y\n",
    "print(z)"
   ]
  },
  {
   "cell_type": "code",
   "execution_count": null,
   "id": "5b08f2f1",
   "metadata": {},
   "outputs": [],
   "source": [
    "# spaces before any variable or exp is called indentation "
   ]
  },
  {
   "cell_type": "code",
   "execution_count": null,
   "id": "573fb6e8",
   "metadata": {},
   "outputs": [],
   "source": []
  },
  {
   "cell_type": "code",
   "execution_count": null,
   "id": "4c6aa50f",
   "metadata": {},
   "outputs": [],
   "source": []
  },
  {
   "cell_type": "code",
   "execution_count": 26,
   "id": "0635d59b",
   "metadata": {},
   "outputs": [
    {
     "name": "stdout",
     "output_type": "stream",
     "text": [
      "30\n"
     ]
    }
   ],
   "source": [
    "# expressions\n",
    "x=10\n",
    "y=20\n",
    "z=x+y\n",
    "print(z)"
   ]
  },
  {
   "cell_type": "code",
   "execution_count": null,
   "id": "0e2ee797",
   "metadata": {},
   "outputs": [],
   "source": [
    "# Comments in Python"
   ]
  },
  {
   "cell_type": "markdown",
   "id": "31359d32",
   "metadata": {},
   "source": [
    "# Python Data Type"
   ]
  },
  {
   "cell_type": "code",
   "execution_count": 27,
   "id": "45c06a43",
   "metadata": {},
   "outputs": [],
   "source": [
    "Boolaens=True"
   ]
  },
  {
   "cell_type": "code",
   "execution_count": 31,
   "id": "171676d3",
   "metadata": {},
   "outputs": [],
   "source": [
    "Numbers=150"
   ]
  },
  {
   "cell_type": "code",
   "execution_count": 47,
   "id": "54fe074f",
   "metadata": {},
   "outputs": [
    {
     "data": {
      "text/plain": [
       "160000000000000000"
      ]
     },
     "execution_count": 47,
     "metadata": {},
     "output_type": "execute_result"
    }
   ],
   "source": [
    "Numbers=Numbers*10\n",
    "Numbers"
   ]
  },
  {
   "cell_type": "code",
   "execution_count": 50,
   "id": "74ac411d",
   "metadata": {},
   "outputs": [
    {
     "data": {
      "text/plain": [
       "'Umesh is learning from ZenLearn'"
      ]
     },
     "execution_count": 50,
     "metadata": {},
     "output_type": "execute_result"
    }
   ],
   "source": [
    "String=\"Umesh is learning from ZenLearn\"\n",
    "String"
   ]
  },
  {
   "cell_type": "code",
   "execution_count": 58,
   "id": "3544bd20",
   "metadata": {},
   "outputs": [
    {
     "data": {
      "text/plain": [
       "b'450'"
      ]
     },
     "execution_count": 58,
     "metadata": {},
     "output_type": "execute_result"
    }
   ],
   "source": [
    "Bytes=\"450\"\n",
    "data=bytes(Bytes,'utf-8')\n",
    "data"
   ]
  },
  {
   "cell_type": "code",
   "execution_count": 53,
   "id": "853cdb04",
   "metadata": {},
   "outputs": [
    {
     "data": {
      "text/plain": [
       "b'\\n\\x144'"
      ]
     },
     "execution_count": 53,
     "metadata": {},
     "output_type": "execute_result"
    }
   ],
   "source": [
    "bytes([10,20,52])"
   ]
  },
  {
   "cell_type": "code",
   "execution_count": null,
   "id": "ad2772a7",
   "metadata": {},
   "outputs": [],
   "source": [
    "bit---->> 01110001001\n",
    "bytes---->> \"01011111\" ---> 1 byte"
   ]
  },
  {
   "cell_type": "code",
   "execution_count": null,
   "id": "2bc6098a",
   "metadata": {},
   "outputs": [],
   "source": [
    "# Lists and tuples "
   ]
  }
 ],
 "metadata": {
  "kernelspec": {
   "display_name": "Python 3 (ipykernel)",
   "language": "python",
   "name": "python3"
  },
  "language_info": {
   "codemirror_mode": {
    "name": "ipython",
    "version": 3
   },
   "file_extension": ".py",
   "mimetype": "text/x-python",
   "name": "python",
   "nbconvert_exporter": "python",
   "pygments_lexer": "ipython3",
   "version": "3.9.13"
  }
 },
 "nbformat": 4,
 "nbformat_minor": 5
}
